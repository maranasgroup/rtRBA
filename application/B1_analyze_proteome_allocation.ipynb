{
 "cells": [
  {
   "cell_type": "code",
   "execution_count": 1,
   "metadata": {},
   "outputs": [],
   "source": [
    "import pandas as pd\n",
    "\n",
    "import sys\n",
    "sys.path.append('../pycore/')\n",
    "from simulate import RBA_result"
   ]
  },
  {
   "cell_type": "code",
   "execution_count": 2,
   "metadata": {},
   "outputs": [],
   "source": [
    "rxns_ppp = ['G6PDH2i_c', 'PGL_c', 'GND_c', 'RPE_c', 'RPI_c',\n",
    "            'TKT1_c', 'TKT2_c', 'TALA_c']"
   ]
  },
  {
   "cell_type": "code",
   "execution_count": 3,
   "metadata": {},
   "outputs": [
    {
     "name": "stdout",
     "output_type": "stream",
     "text": [
      "0.017493645563283897\n"
     ]
    }
   ],
   "source": [
    "prod = 'retcln'\n",
    "res = RBA_result(biom_id='BIOSYN-BIODILAERO')\n",
    "res.load_from_json('./output_max/' + prod + '/RBA_result.json')\n",
    "allo = 0\n",
    "for rxn in rxns_ppp:\n",
    "    allo += res.proteome_allocation_by_rxns[rxn]\n",
    "print(allo)"
   ]
  },
  {
   "cell_type": "code",
   "execution_count": 4,
   "metadata": {},
   "outputs": [
    {
     "name": "stdout",
     "output_type": "stream",
     "text": [
      "0.0651910661120894\n"
     ]
    }
   ],
   "source": [
    "prod = 'hxdcol'\n",
    "res = RBA_result(biom_id='BIOSYN-BIODILAERO')\n",
    "res.load_from_json('./output_max/' + prod + '/RBA_result.json')\n",
    "allo = 0\n",
    "for rxn in rxns_ppp:\n",
    "    allo += res.proteome_allocation_by_rxns[rxn]\n",
    "print(allo)"
   ]
  },
  {
   "cell_type": "code",
   "execution_count": 5,
   "metadata": {},
   "outputs": [
    {
     "name": "stdout",
     "output_type": "stream",
     "text": [
      "0.0013513173668808795\n"
     ]
    }
   ],
   "source": [
    "prod = 'etoh'\n",
    "res = RBA_result(biom_id='BIOSYN-BIODILAERO')\n",
    "res.load_from_json('./output_max/' + prod + '/RBA_result.json')\n",
    "allo = 0\n",
    "for rxn in rxns_ppp:\n",
    "    allo += res.proteome_allocation_by_rxns[rxn]\n",
    "print(allo)"
   ]
  },
  {
   "cell_type": "code",
   "execution_count": null,
   "metadata": {},
   "outputs": [],
   "source": []
  },
  {
   "cell_type": "code",
   "execution_count": 6,
   "metadata": {},
   "outputs": [
    {
     "name": "stdout",
     "output_type": "stream",
     "text": [
      "0.3746396645874182\n"
     ]
    }
   ],
   "source": [
    "rxns_amet = ['METAT_c', 'AHCi_c', 'METS_c', 'ADNK1_c']\n",
    "prod = 'retcln'\n",
    "res = RBA_result(biom_id='BIOSYN-BIODILAERO')\n",
    "res.load_from_json('./output_max/' + prod + '/RBA_result.json')\n",
    "allo = 0\n",
    "for rxn in rxns_amet:\n",
    "    allo += res.proteome_allocation_by_rxns[rxn]\n",
    "print(allo)"
   ]
  },
  {
   "cell_type": "code",
   "execution_count": 7,
   "metadata": {},
   "outputs": [
    {
     "name": "stdout",
     "output_type": "stream",
     "text": [
      "0.006744927359503452\n"
     ]
    }
   ],
   "source": [
    "rxns_amet = ['METAT_c', 'AHCi_c', 'METS_c', 'ADNK1_c']\n",
    "prod = 'etoh'\n",
    "res = RBA_result(biom_id='BIOSYN-BIODILAERO')\n",
    "res.load_from_json('./output_max/' + prod + '/RBA_result.json')\n",
    "allo = 0\n",
    "for rxn in rxns_amet:\n",
    "    allo += res.proteome_allocation_by_rxns[rxn]\n",
    "print(allo)"
   ]
  },
  {
   "cell_type": "code",
   "execution_count": 8,
   "metadata": {},
   "outputs": [
    {
     "data": {
      "text/plain": [
       "0.3679"
      ]
     },
     "execution_count": 8,
     "metadata": {},
     "output_type": "execute_result"
    }
   ],
   "source": [
    "0.3746 - 0.0067"
   ]
  },
  {
   "cell_type": "code",
   "execution_count": 9,
   "metadata": {},
   "outputs": [
    {
     "data": {
      "text/plain": [
       "0.016139999999999998"
      ]
     },
     "execution_count": 9,
     "metadata": {},
     "output_type": "execute_result"
    }
   ],
   "source": [
    "0.01749 - 0.00135"
   ]
  },
  {
   "cell_type": "code",
   "execution_count": 10,
   "metadata": {},
   "outputs": [
    {
     "data": {
      "text/plain": [
       "0.06375"
      ]
     },
     "execution_count": 10,
     "metadata": {},
     "output_type": "execute_result"
    }
   ],
   "source": [
    "0.0651 - 0.00135"
   ]
  },
  {
   "cell_type": "code",
   "execution_count": null,
   "metadata": {},
   "outputs": [],
   "source": []
  }
 ],
 "metadata": {
  "kernelspec": {
   "display_name": "Python 3",
   "language": "python",
   "name": "python3"
  },
  "language_info": {
   "codemirror_mode": {
    "name": "ipython",
    "version": 3
   },
   "file_extension": ".py",
   "mimetype": "text/x-python",
   "name": "python",
   "nbconvert_exporter": "python",
   "pygments_lexer": "ipython3",
   "version": "3.7.9"
  }
 },
 "nbformat": 4,
 "nbformat_minor": 4
}
