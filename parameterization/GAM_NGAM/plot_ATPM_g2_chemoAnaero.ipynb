{
 "cells": [
  {
   "cell_type": "code",
   "execution_count": 1,
   "metadata": {},
   "outputs": [],
   "source": [
    "import cobra\n",
    "import pandas as pd\n",
    "from collections import OrderedDict\n",
    "\n",
    "from sklearn.linear_model import LinearRegression\n",
    "import numpy as np\n",
    "\n",
    "import matplotlib.pyplot as plt\n",
    "import matplotlib.lines as mlines\n",
    "%matplotlib inline"
   ]
  },
  {
   "cell_type": "code",
   "execution_count": 2,
   "metadata": {},
   "outputs": [],
   "source": [
    "df_data = pd.read_excel('./phenotype_data_collection_2022-05-06.xlsx', sheet_name='Data')\n",
    "idx = [i for i in range(0,72)]\n",
    "df_data = df_data.loc[idx, :]\n",
    "df_data.index = df_data.Dataset.to_list()\n",
    "df_data = df_data[df_data.maxATPM_FBA.isnull() == False]"
   ]
  },
  {
   "cell_type": "code",
   "execution_count": 3,
   "metadata": {},
   "outputs": [],
   "source": [
    "groups = ['ChemoAnaero']"
   ]
  },
  {
   "cell_type": "code",
   "execution_count": 4,
   "metadata": {},
   "outputs": [
    {
     "name": "stdout",
     "output_type": "stream",
     "text": [
      "n = 10\n",
      "Slope = 75.99216131243647\n",
      "R2 = 0.9489362769283328\n"
     ]
    }
   ],
   "source": [
    "ngam = 1\n",
    "idx_in = []\n",
    "for g in groups:\n",
    "    idx_in += df_data[df_data.Group == g].index.to_list()\n",
    "df = df_data.loc[idx_in, :]\n",
    "\n",
    "LRmodel = LinearRegression(fit_intercept=False)\n",
    "x = df.Growth_rate.to_list()\n",
    "x_fit = np.array(x).reshape(-1,1)\n",
    "y = [i-ngam for i in df.maxATPM_FBA]\n",
    "y_fit = np.array(y).reshape(-1,1)\n",
    "\n",
    "LRmodel.fit(x_fit, y_fit)\n",
    "res_m1 = dict()\n",
    "res_m1['a'] = LRmodel.coef_[0][0]\n",
    "res_m1['R2'] = LRmodel.score(x_fit,y_fit)\n",
    "\n",
    "print('n =', df.shape[0])\n",
    "print('Slope =', res_m1['a'])\n",
    "print('R2 =', res_m1['R2'])"
   ]
  },
  {
   "cell_type": "code",
   "execution_count": 7,
   "metadata": {},
   "outputs": [
    {
     "data": {
      "image/png": "[encoded data removed]",
      "text/plain": [
       "<Figure size 360x324 with 1 Axes>"
      ]
     },
     "metadata": {
      "needs_background": "light"
     },
     "output_type": "display_data"
    }
   ],
   "source": [
    "fig,ax = plt.subplots(figsize=(5,4.5))\n",
    "color = '#6200ea'\n",
    "\n",
    "idx_in = []\n",
    "for g in groups:\n",
    "    idx_in += df_data[df_data.Group == g].index.to_list()\n",
    "idx_out = [i for i in df_data.index if i not in idx_in]\n",
    "\n",
    "df = df_data.loc[idx_out,:]\n",
    "x = df.Growth_rate.to_list()\n",
    "y = df.maxATPM_FBA.to_list()\n",
    "ax.scatter(x, y, color='#9e9e9e')\n",
    "\n",
    "df = df_data.loc[idx_in,:]\n",
    "x = df.Growth_rate.to_list()\n",
    "y = df.maxATPM_FBA.to_list()\n",
    "ax.scatter(x, y, color=color)\n",
    "\n",
    "x_line = [0, 0.52]\n",
    "y_line = [ngam, ngam + res_m1['a']*x_line[1]]\n",
    "line = mlines.Line2D(x_line, y_line, color=color, linestyle='--', linewidth=1)\n",
    "ax.add_line(line);\n",
    "\n",
    "ax.set_xlim(-0.01,0.51);\n",
    "ax.set_ylim(0,80);\n",
    "\n",
    "yticks = [0,20,40,60,80]\n",
    "ax.set_yticks(yticks);\n",
    "ax.set_yticklabels(yticks, fontsize=16)\n",
    "ax.set_ylabel('Max ATP hydrolysis\\n' + '(mmol gDW$^{-1}$ h$^{-1}$)', fontsize=16);\n",
    "\n",
    "xticks = [0,0.1,0.2,0.3,0.4,0.5]\n",
    "ax.set_xticks(xticks);\n",
    "ax.set_xticklabels(xticks, fontsize=16);\n",
    "ax.set_xlabel('Growth rate (h$^{-1}$)', fontsize=16);\n",
    "\n",
    "#plt.savefig('../../../scRBA_figures/components/ATPM_g2_chemoAnaero.png', transparent=True, bbox_inches='tight')"
   ]
  },
  {
   "cell_type": "code",
   "execution_count": 9,
   "metadata": {},
   "outputs": [
    {
     "data": {
      "image/png": "[encoded data removed]",
      "text/plain": [
       "<Figure size 360x324 with 1 Axes>"
      ]
     },
     "metadata": {
      "needs_background": "light"
     },
     "output_type": "display_data"
    }
   ],
   "source": [
    "fig,ax = plt.subplots(figsize=(5,4.5))\n",
    "color = '#6200ea'\n",
    "\n",
    "idx_in = []\n",
    "for g in groups:\n",
    "    idx_in += df_data[df_data.Group == g].index.to_list()\n",
    "idx_out = [i for i in df_data.index if i not in idx_in]\n",
    "\n",
    "df = df_data.loc[idx_out,:]\n",
    "x = df.Growth_rate.to_list()\n",
    "y = df.maxATPM_FBA.to_list()\n",
    "ax.scatter(x, y, color='#9e9e9e')\n",
    "\n",
    "df = df_data.loc[idx_in,:]\n",
    "x = df.Growth_rate.to_list()\n",
    "y = df.maxATPM_FBA.to_list()\n",
    "ax.scatter(x, y, color=color)\n",
    "\n",
    "x_line = [0, 0.52]\n",
    "y_line = [ngam, ngam + res_m1['a']*x_line[1]]\n",
    "line = mlines.Line2D(x_line, y_line, color=color, linestyle='--', linewidth=1)\n",
    "ax.add_line(line);\n",
    "\n",
    "ax.set_xlim(-0.01,0.51);\n",
    "ax.set_ylim(0,80);\n",
    "\n",
    "yticks = [0,20,40,60,80]\n",
    "ax.set_yticks(yticks);\n",
    "ax.set_yticklabels(['']*len(yticks), fontsize=16)\n",
    "\n",
    "xticks = [0,0.1,0.2,0.3,0.4,0.5]\n",
    "ax.set_xticks(xticks);\n",
    "ax.set_xticklabels(xticks, fontsize=16);\n",
    "ax.set_xlabel('Growth rate (h$^{-1}$)', fontsize=16);\n",
    "\n",
    "#plt.savefig('../../../scRBA_figures/components/ATPM_g2_chemoAnaero_noylabels.png', transparent=True, bbox_inches='tight')"
   ]
  },
  {
   "cell_type": "code",
   "execution_count": null,
   "metadata": {},
   "outputs": [],
   "source": []
  }
 ],
 "metadata": {
  "kernelspec": {
   "display_name": "Python 3",
   "language": "python",
   "name": "python3"
  },
  "language_info": {
   "codemirror_mode": {
    "name": "ipython",
    "version": 3
   },
   "file_extension": ".py",
   "mimetype": "text/x-python",
   "name": "python",
   "nbconvert_exporter": "python",
   "pygments_lexer": "ipython3",
   "version": "3.7.9"
  }
 },
 "nbformat": 4,
 "nbformat_minor": 4
}
