{
 "cells": [
  {
   "cell_type": "code",
   "execution_count": 1,
   "metadata": {},
   "outputs": [],
   "source": [
    "import cobra\n",
    "import pandas as pd\n",
    "from collections import OrderedDict\n",
    "\n",
    "import matplotlib.pyplot as plt\n",
    "import matplotlib.lines as mlines\n",
    "%matplotlib inline"
   ]
  },
  {
   "cell_type": "code",
   "execution_count": 2,
   "metadata": {},
   "outputs": [],
   "source": [
    "df_data = pd.read_excel('./phenotype_data_collection_2022-05-06.xlsx', sheet_name='Data')\n",
    "idx_plim = range(74,79)\n",
    "df_data = df_data.loc[idx_plim, :]\n",
    "df_data.index = df_data.Dataset.to_list()\n",
    "df_data = df_data[df_data.maxATPM_FBA.isnull() == False]"
   ]
  },
  {
   "cell_type": "code",
   "execution_count": 5,
   "metadata": {},
   "outputs": [
    {
     "data": {
      "image/png": "[encoded data removed]",
      "text/plain": [
       "<Figure size 360x324 with 1 Axes>"
      ]
     },
     "metadata": {
      "needs_background": "light"
     },
     "output_type": "display_data"
    }
   ],
   "source": [
    "fig,ax = plt.subplots(figsize=(5,4.5))\n",
    "df = df_data\n",
    "x = df.Growth_rate.to_list()\n",
    "y = df.maxATPM_FBA.to_list()\n",
    "ax.scatter(x, y, color='k');\n",
    "\n",
    "ax.set_xlim(-0.01,0.25);\n",
    "ax.set_ylim(0,80);\n",
    "\n",
    "yticks = [0,20,40,60,80]\n",
    "ax.set_yticks(yticks);\n",
    "ax.set_yticklabels(yticks, fontsize=16)\n",
    "ax.set_ylabel('Max ATP hydrolysis\\n' + '(mmol gDW$^{-1}$ h$^{-1}$)', fontsize=16);\n",
    "\n",
    "xticks = [0,0.05,0.1,0.15,0.2, 0.25]\n",
    "ax.set_xticks(xticks);\n",
    "ax.set_xticklabels(xticks, fontsize=16);\n",
    "ax.set_xlabel('Growth rate (h$^{-1}$)', fontsize=16);\n",
    "\n",
    "#plt.savefig('../../../scRBA_figures/components/ATPM_Plim_outliers.png', transparent=True, bbox_inches='tight')"
   ]
  },
  {
   "cell_type": "code",
   "execution_count": null,
   "metadata": {},
   "outputs": [],
   "source": []
  }
 ],
 "metadata": {
  "kernelspec": {
   "display_name": "Python 3",
   "language": "python",
   "name": "python3"
  },
  "language_info": {
   "codemirror_mode": {
    "name": "ipython",
    "version": 3
   },
   "file_extension": ".py",
   "mimetype": "text/x-python",
   "name": "python",
   "nbconvert_exporter": "python",
   "pygments_lexer": "ipython3",
   "version": "3.7.9"
  }
 },
 "nbformat": 4,
 "nbformat_minor": 4
}
