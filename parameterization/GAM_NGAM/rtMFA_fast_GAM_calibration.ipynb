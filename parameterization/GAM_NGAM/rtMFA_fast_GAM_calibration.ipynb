{
 "cells": [
  {
   "cell_type": "code",
   "execution_count": 11,
   "metadata": {},
   "outputs": [],
   "source": [
    "import cobra\n",
    "import pandas as pd\n",
    "\n",
    "import sys\n",
    "sys.path.append('/home/hvdinh16/Workspace/workpy3/common/')\n",
    "from custom_functions import *\n",
    "\n",
    "from collections import OrderedDict"
   ]
  },
  {
   "cell_type": "code",
   "execution_count": 9,
   "metadata": {},
   "outputs": [],
   "source": [
    "model = cobra.io.load_json_model('./model/batch/gem.json')\n",
    "biom = 'BIOMASS'"
   ]
  },
  {
   "cell_type": "markdown",
   "metadata": {},
   "source": [
    "#### At old GAM"
   ]
  },
  {
   "cell_type": "code",
   "execution_count": 6,
   "metadata": {
    "scrolled": true
   },
   "outputs": [
    {
     "name": "stdout",
     "output_type": "stream",
     "text": [
      "0.8224177919490836\n"
     ]
    }
   ],
   "source": [
    "model = cobra.io.load_json_model('./model/batch/gem.json')\n",
    "model.solver = 'cplex'\n",
    "\n",
    "model.reactions.EX_glc__D_e.bounds = (10,10)\n",
    "model.objective = dict()\n",
    "model.reactions.BIOMASS.objective_coefficient = 1\n",
    "\n",
    "fba = model.optimize()\n",
    "print(fba['BIOMASS'])"
   ]
  },
  {
   "cell_type": "code",
   "execution_count": 7,
   "metadata": {},
   "outputs": [
    {
     "name": "stdout",
     "output_type": "stream",
     "text": [
      "NGAM: 1.0124\n"
     ]
    }
   ],
   "source": [
    "print('NGAM:', model.reactions.ATPM_c.lower_bound)"
   ]
  },
  {
   "cell_type": "markdown",
   "metadata": {},
   "source": [
    "#### Find max ATP rate after reaction stoich update"
   ]
  },
  {
   "cell_type": "code",
   "execution_count": 18,
   "metadata": {},
   "outputs": [
    {
     "name": "stdout",
     "output_type": "stream",
     "text": [
      "157.74795219701375\n"
     ]
    }
   ],
   "source": [
    "model = cobra.io.load_json_model('./model/batch/gem.json')\n",
    "model.solver = 'cplex'\n",
    "\n",
    "model.reactions.ATPS_m.reaction = '3.0 adp_m + 10.0 h_c + 3.0 pi_m --> 3.0 atp_m + 3.0 h2o_m + 7.0 h_m'\n",
    "model.reactions.FECOOR_m.reaction = '2.0 focytC_m + 4.0 h_m + 0.5 o2_m --> 2.0 ficytC_m + h2o_m + 2.0 h_c'\n",
    "model.reactions.FECRq9_m.reaction = '2.0 ficytC_m + 2.0 h_m + q9h2_m --> 2.0 focytC_m + 4.0 h_c + q9_m'\n",
    "\n",
    "# Remove GAM from biomass equation\n",
    "adp = model.metabolites.adp_c\n",
    "gam0 = model.reactions.get_by_id(biom).metabolites[adp]\n",
    "met_dict = OrderedDict({met.id:v for met,v in model.reactions.get_by_id(biom).metabolites.items()})\n",
    "for met in ['atp_c', 'h2o_c']:\n",
    "    met_dict[met] += gam0\n",
    "for met in ['adp_c', 'pi_c', 'h_c']:\n",
    "    met_dict[met] -= gam0\n",
    "biom_eqn = build_reaction_equation_from_metabolites_dict(met_dict, arrow='-->')\n",
    "model.reactions.get_by_id(biom).reaction = biom_eqn\n",
    "\n",
    "model.reactions.EX_glc__D_e.bounds = (10,10)\n",
    "model.objective = dict()\n",
    "model.reactions.ATPM_c.objective_coefficient = 1\n",
    "\n",
    "model.reactions.BIOMASS.bounds = (0.8224177919490836,0.8224177919490836)\n",
    "\n",
    "fba = model.optimize()\n",
    "print(fba['ATPM_c'])"
   ]
  },
  {
   "cell_type": "markdown",
   "metadata": {},
   "source": [
    "#### Calibrate"
   ]
  },
  {
   "cell_type": "code",
   "execution_count": 15,
   "metadata": {},
   "outputs": [
    {
     "data": {
      "text/plain": [
       "159.24375799999922"
      ]
     },
     "execution_count": 15,
     "metadata": {},
     "output_type": "execute_result"
    }
   ],
   "source": [
    "(131.97729983603358 - 1.0124) / 0.8224177919490836"
   ]
  },
  {
   "cell_type": "code",
   "execution_count": 19,
   "metadata": {},
   "outputs": [
    {
     "data": {
      "text/plain": [
       "190.57899005997834"
      ]
     },
     "execution_count": 19,
     "metadata": {},
     "output_type": "execute_result"
    }
   ],
   "source": [
    "(157.74795219701375 - 1.0124) / 0.8224177919490836"
   ]
  },
  {
   "cell_type": "markdown",
   "metadata": {},
   "source": [
    "#### Fix equations"
   ]
  },
  {
   "cell_type": "code",
   "execution_count": 22,
   "metadata": {},
   "outputs": [],
   "source": [
    "model = cobra.io.load_json_model('./model/batch/gem.json')\n",
    "model.solver = 'cplex'\n",
    "\n",
    "model.reactions.ATPS_m.reaction = '3.0 adp_m + 10.0 h_c + 3.0 pi_m --> 3.0 atp_m + 3.0 h2o_m + 7.0 h_m'\n",
    "model.reactions.FECOOR_m.reaction = '2.0 focytC_m + 4.0 h_m + 0.5 o2_m --> 2.0 ficytC_m + h2o_m + 2.0 h_c'\n",
    "model.reactions.FECRq9_m.reaction = '2.0 ficytC_m + 2.0 h_m + q9h2_m --> 2.0 focytC_m + 4.0 h_c + q9_m'\n",
    "\n",
    "# Remove GAM from biomass equation\n",
    "adp = model.metabolites.adp_c\n",
    "gam0 = model.reactions.get_by_id(biom).metabolites[adp]\n",
    "met_dict = OrderedDict({met.id:v for met,v in model.reactions.get_by_id(biom).metabolites.items()})\n",
    "for met in ['atp_c', 'h2o_c']:\n",
    "    met_dict[met] += gam0\n",
    "for met in ['adp_c', 'pi_c', 'h_c']:\n",
    "    met_dict[met] -= gam0\n",
    "biom_eqn = build_reaction_equation_from_metabolites_dict(met_dict, arrow='-->')\n",
    "model.reactions.get_by_id(biom).reaction = biom_eqn\n",
    "\n",
    "# Add new GAM value\n",
    "for met in ['atp_c', 'h2o_c']:\n",
    "    met_dict[met] -= 190.578990\n",
    "for met in ['adp_c', 'pi_c', 'h_c']:\n",
    "    met_dict[met] += 190.578990\n",
    "biom_eqn = build_reaction_equation_from_metabolites_dict(met_dict, arrow='-->')"
   ]
  },
  {
   "cell_type": "code",
   "execution_count": 23,
   "metadata": {},
   "outputs": [
    {
     "data": {
      "text/plain": [
       "'0.684548 13BDglucan_c + 0.180144 16BDglucan_c + 0.405893 ala__L_c + 0.160363 arg__L_c + 0.192768 asn__L_c + 0.192768 asp__L_c + 190.647337 atp_c + 0.001286 ca2_c + 0.016184 chtn_c + 0.119302 ctp_c + 0.000114 cu2_c + 0.005816 cys__L_c + 0.006009 datp_c + 0.009379 dctp_c + 0.009379 dgtp_c + 0.006009 dttp_c + 0.042867 ergst_c + 0.010634 ergstest_c + 0.000664 fe2_c + 0.001922 ffabiom_c + 0.321557 gln__L_c + 0.321557 glu__L_c + 0.369334 gly_c + 0.234811 glycogen_c + 0.104534 gtp_c + 186.43364699999998 h2o_c + 0.080182 his__L_c + 0.244699 ile__L_c + 0.005176 ipcbiom_c + 0.60365 k_c + 0.332774 leu__L_c + 0.27295 lys__L_c + 0.49015 mannan_c + 0.047361 met__L_c + 0.063607 mg2_c + 9.4e-05 mn2_c + 0.007738 pail_c + 0.028783 pc_c + 0.00772 pe_c + 0.156209 phe__L_c + 0.175319 pro__L_c + 0.006643 ps_c + 0.221434 ser__L_c + 0.031223 so4_c + 0.010494 tag_c + 0.231405 thr__L_c + 0.137707 tre_c + 0.027004 trp__L_c + 0.081428 tyr__L_c + 0.062537 utp_c + 0.304524 val__L_c + 0.001576 zn2_c --> 190.57899 adp_c + 190.57899 h_c + 190.473335 pi_c + 0.385495 ppi_c'"
      ]
     },
     "execution_count": 23,
     "metadata": {},
     "output_type": "execute_result"
    }
   ],
   "source": [
    "biom_eqn"
   ]
  },
  {
   "cell_type": "code",
   "execution_count": null,
   "metadata": {},
   "outputs": [],
   "source": []
  }
 ],
 "metadata": {
  "kernelspec": {
   "display_name": "Python 3",
   "language": "python",
   "name": "python3"
  },
  "language_info": {
   "codemirror_mode": {
    "name": "ipython",
    "version": 3
   },
   "file_extension": ".py",
   "mimetype": "text/x-python",
   "name": "python",
   "nbconvert_exporter": "python",
   "pygments_lexer": "ipython3",
   "version": "3.7.9"
  }
 },
 "nbformat": 4,
 "nbformat_minor": 4
}
