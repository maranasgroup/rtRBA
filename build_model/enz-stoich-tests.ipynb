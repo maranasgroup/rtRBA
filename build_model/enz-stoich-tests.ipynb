{
 "cells": [
  {
   "cell_type": "code",
   "execution_count": 29,
   "metadata": {},
   "outputs": [],
   "source": [
    "import openpyxl,re"
   ]
  },
  {
   "cell_type": "code",
   "execution_count": 99,
   "metadata": {},
   "outputs": [],
   "source": [
    "filename = \"input/ENZYME_stoich_curation copy.xlsx\"\n",
    "table_name = \"Table2\"  # Replace with your table name\n",
    "num_rows_to_add = 5\n",
    "\n",
    "workbook = openpyxl.load_workbook(filename)\n",
    "ws = workbook.active\n",
    "# Get the table object\n",
    "table = ws.tables[table_name]\n",
    "# get the default formulas for each column\n",
    "table_columns = table.tableColumns\n",
    "# Get the table range\n",
    "table_range = table.ref\n",
    "last_row = int(re.search(r\"\\d+$\", table.ref.split(':')[-1])[0])\n",
    "# for each column, add the formula to the new rows\n",
    "for i,col in enumerate(table.tableColumns):\n",
    "\tif col.calculatedColumnFormula:\n",
    "\t\tfor j in range(1, num_rows_to_add + 1):\n",
    "\t\t\t# update the formula to the new row (row 2 is the default for the current row)\n",
    "\t\t\tnew_formula = re.sub(r\"([A-Z]+)(\\d+)\", lambda x: f\"{x.group(1)}{int(x.group(2)) + last_row + j - 2}\", col.calculatedColumnFormula.attr_text)\n",
    "\t\t\tws[f\"{chr(65+i)}{int(table_range.split(':')[1][1:]) + j}\"] = f\"={new_formula}\"\n",
    "\t\t\n",
    "table.ref = re.search(r\"(.*:\\D+)\", table.ref)[0] + str(int(re.search(r\"\\d+$\", table.ref.split(':')[-1])[0]) + num_rows_to_add)\n",
    "workbook.save(filename)"
   ]
  },
  {
   "cell_type": "code",
   "execution_count": 11,
   "metadata": {},
   "outputs": [
    {
     "ename": "IndexError",
     "evalue": "list index out of range",
     "output_type": "error",
     "traceback": [
      "\u001b[0;31m---------------------------------------------------------------------------\u001b[0m",
      "\u001b[0;31mIndexError\u001b[0m                                Traceback (most recent call last)",
      "Cell \u001b[0;32mIn[11], line 39\u001b[0m\n\u001b[1;32m     36\u001b[0m table_name \u001b[38;5;241m=\u001b[39m \u001b[38;5;124m\"\u001b[39m\u001b[38;5;124mTable2\u001b[39m\u001b[38;5;124m\"\u001b[39m  \u001b[38;5;66;03m# Replace with your table name\u001b[39;00m\n\u001b[1;32m     37\u001b[0m num_rows_to_add \u001b[38;5;241m=\u001b[39m \u001b[38;5;241m5\u001b[39m\n\u001b[0;32m---> 39\u001b[0m \u001b[43madd_rows_to_table\u001b[49m\u001b[43m(\u001b[49m\u001b[43mfilename\u001b[49m\u001b[43m,\u001b[49m\u001b[43m \u001b[49m\u001b[43mtable_name\u001b[49m\u001b[43m,\u001b[49m\u001b[43m \u001b[49m\u001b[43mnum_rows_to_add\u001b[49m\u001b[43m)\u001b[49m\n",
      "Cell \u001b[0;32mIn[11], line 9\u001b[0m, in \u001b[0;36madd_rows_to_table\u001b[0;34m(filename, table_name, num_rows)\u001b[0m\n\u001b[1;32m      7\u001b[0m table \u001b[38;5;241m=\u001b[39m ws\u001b[38;5;241m.\u001b[39mtables[table_name]\n\u001b[1;32m      8\u001b[0m \u001b[38;5;66;03m# find last row of the table\u001b[39;00m\n\u001b[0;32m----> 9\u001b[0m last_row \u001b[38;5;241m=\u001b[39m \u001b[43mtable\u001b[49m\u001b[38;5;241;43m.\u001b[39;49m\u001b[43mref\u001b[49m\u001b[38;5;241;43m.\u001b[39;49m\u001b[43msplit\u001b[49m\u001b[43m(\u001b[49m\u001b[38;5;124;43m\"\u001b[39;49m\u001b[38;5;124;43m:\u001b[39;49m\u001b[38;5;124;43m\"\u001b[39;49m\u001b[43m)\u001b[49m\u001b[43m[\u001b[49m\u001b[38;5;241;43m1\u001b[39;49m\u001b[43m]\u001b[49m\u001b[38;5;241;43m.\u001b[39;49m\u001b[43msplit\u001b[49m\u001b[43m(\u001b[49m\u001b[43m)\u001b[49m\u001b[43m[\u001b[49m\u001b[38;5;241;43m1\u001b[39;49m\u001b[43m]\u001b[49m\n\u001b[1;32m     10\u001b[0m row_num \u001b[38;5;241m=\u001b[39m ws\u001b[38;5;241m.\u001b[39mmax_row \u001b[38;5;241m+\u001b[39m \u001b[38;5;241m1\u001b[39m\n\u001b[1;32m     11\u001b[0m table\u001b[38;5;241m.\u001b[39minsert_rows(row_num, num_rows)\n",
      "\u001b[0;31mIndexError\u001b[0m: list index out of range"
     ]
    }
   ],
   "source": [
    "def add_rows_to_table(filename, table_name, num_rows):\n",
    "    workbook = openpyxl.load_workbook(filename)\n",
    "    ws = workbook.active\n",
    "    \n",
    "\n",
    "    # Get the table object\n",
    "    table = ws.tables[table_name]\n",
    "    # find last row of the table\n",
    "    last_row = table.ref.split(\":\")[1].split()[1]\n",
    "    row_num = ws.max_row + 1\n",
    "    table.insert_rows(row_num, num_rows)\n",
    "    print(last_row)\n",
    "    \n",
    "    table.ref = table.ref[:-1] + str(row_num)\n",
    "\n",
    "\n",
    "    row_data = [1,2,3,4,5,]\n",
    "    for col, value in enumerate(row_data):\n",
    "        ws.cell(row=row_num, column=col+1).value = value\n",
    "\n",
    "    # Determine the last row of the table\n",
    "    last_row = table.ref.split(\":\")[1].split()[1]\n",
    "    last_row_int = int(last_row)\n",
    "\n",
    "    # Insert new rows\n",
    "    for _ in range(num_rows):\n",
    "        ws.insert_rows(last_row_int + 1)\n",
    "\n",
    "    # Update the table's reference\n",
    "    table.ref = f\"{table.ref[:-1]}{last_row_int + num_rows}\"\n",
    "\n",
    "    workbook.save(filename)\n",
    "\n",
    "# Example usage:\n",
    "filename = \"input/ENZYME_stoich_curation copy.xlsx\"\n",
    "table_name = \"Table2\"  # Replace with your table name\n",
    "num_rows_to_add = 5\n",
    "\n",
    "add_rows_to_table(filename, table_name, num_rows_to_add)"
   ]
  },
  {
   "cell_type": "code",
   "execution_count": null,
   "metadata": {},
   "outputs": [],
   "source": []
  }
 ],
 "metadata": {
  "kernelspec": {
   "display_name": "rba",
   "language": "python",
   "name": "python3"
  },
  "language_info": {
   "codemirror_mode": {
    "name": "ipython",
    "version": 3
   },
   "file_extension": ".py",
   "mimetype": "text/x-python",
   "name": "python",
   "nbconvert_exporter": "python",
   "pygments_lexer": "ipython3",
   "version": "3.9.18"
  }
 },
 "nbformat": 4,
 "nbformat_minor": 2
}
