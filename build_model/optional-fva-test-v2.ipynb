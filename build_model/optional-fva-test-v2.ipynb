{
 "cells": [
  {
   "cell_type": "code",
   "execution_count": 1,
   "metadata": {},
   "outputs": [],
   "source": [
    "# Compares contents of multiple models\n",
    "import cobra\n",
    "import pandas as pd\n",
    "import cobra\n",
    "from collections import OrderedDict\n",
    "from copy import deepcopy\n",
    "import os,sys\n",
    "model_root_path = '../'\n",
    "sys.path.append(model_root_path+'pycore/')\n",
    "\n",
    "from gsm_custom_functions import *"
   ]
  },
  {
   "cell_type": "code",
   "execution_count": 2,
   "metadata": {},
   "outputs": [],
   "source": [
    "from cobra.flux_analysis import flux_variability_analysis\n",
    "model2_file = \"./input/iRhtoC.json\"\n",
    "model3 = cobra.io.load_json_model(model2_file)"
   ]
  },
  {
   "cell_type": "code",
   "execution_count": 3,
   "metadata": {},
   "outputs": [
    {
     "name": "stdout",
     "output_type": "stream",
     "text": [
      "Reactions with bounds =/= ±1000 or 0: ['EX_glc__D_e', 'EX_btn_c', 'ATPM_c']\n"
     ]
    }
   ],
   "source": [
    "# find rxns with upper or lower bounds not equal to 1000, 0, or -1000\n",
    "rxns = []\n",
    "for rxn in model3.reactions:\n",
    "    if rxn.upper_bound not in [1000, 0, -1000] or rxn.lower_bound not in [1000, 0, -1000]:\n",
    "        rxns.append(rxn.id)\n",
    "print('Reactions with bounds =/= ±1000 or 0: '+str(rxns))"
   ]
  },
  {
   "cell_type": "code",
   "execution_count": 4,
   "metadata": {},
   "outputs": [
    {
     "data": {
      "text/html": [
       "<div>\n",
       "<style scoped>\n",
       "    .dataframe tbody tr th:only-of-type {\n",
       "        vertical-align: middle;\n",
       "    }\n",
       "\n",
       "    .dataframe tbody tr th {\n",
       "        vertical-align: top;\n",
       "    }\n",
       "\n",
       "    .dataframe thead th {\n",
       "        text-align: right;\n",
       "    }\n",
       "</style>\n",
       "<table border=\"1\" class=\"dataframe\">\n",
       "  <thead>\n",
       "    <tr style=\"text-align: right;\">\n",
       "      <th></th>\n",
       "      <th>minimum</th>\n",
       "      <th>maximum</th>\n",
       "    </tr>\n",
       "  </thead>\n",
       "  <tbody>\n",
       "    <tr>\n",
       "      <th>THFAT_m</th>\n",
       "      <td>0.000000</td>\n",
       "      <td>0.000000</td>\n",
       "    </tr>\n",
       "    <tr>\n",
       "      <th>FMNRx_c</th>\n",
       "      <td>0.000000</td>\n",
       "      <td>0.000000</td>\n",
       "    </tr>\n",
       "    <tr>\n",
       "      <th>FMNRx2_c</th>\n",
       "      <td>0.000000</td>\n",
       "      <td>0.000000</td>\n",
       "    </tr>\n",
       "    <tr>\n",
       "      <th>ADPh_c</th>\n",
       "      <td>0.000000</td>\n",
       "      <td>201.687140</td>\n",
       "    </tr>\n",
       "    <tr>\n",
       "      <th>ADPh_m</th>\n",
       "      <td>0.000000</td>\n",
       "      <td>187.983237</td>\n",
       "    </tr>\n",
       "    <tr>\n",
       "      <th>...</th>\n",
       "      <td>...</td>\n",
       "      <td>...</td>\n",
       "    </tr>\n",
       "    <tr>\n",
       "      <th>OAADC_c</th>\n",
       "      <td>0.000000</td>\n",
       "      <td>201.687140</td>\n",
       "    </tr>\n",
       "    <tr>\n",
       "      <th>Ktps_e</th>\n",
       "      <td>0.000000</td>\n",
       "      <td>0.226681</td>\n",
       "    </tr>\n",
       "    <tr>\n",
       "      <th>G5SADr_m</th>\n",
       "      <td>-18.461538</td>\n",
       "      <td>0.000000</td>\n",
       "    </tr>\n",
       "    <tr>\n",
       "      <th>GHMT2r_m</th>\n",
       "      <td>-26.666667</td>\n",
       "      <td>11.590909</td>\n",
       "    </tr>\n",
       "    <tr>\n",
       "      <th>ETFOXRq9_c</th>\n",
       "      <td>0.000000</td>\n",
       "      <td>1.908499</td>\n",
       "    </tr>\n",
       "  </tbody>\n",
       "</table>\n",
       "<p>2308 rows × 2 columns</p>\n",
       "</div>"
      ],
      "text/plain": [
       "              minimum     maximum\n",
       "THFAT_m      0.000000    0.000000\n",
       "FMNRx_c      0.000000    0.000000\n",
       "FMNRx2_c     0.000000    0.000000\n",
       "ADPh_c       0.000000  201.687140\n",
       "ADPh_m       0.000000  187.983237\n",
       "...               ...         ...\n",
       "OAADC_c      0.000000  201.687140\n",
       "Ktps_e       0.000000    0.226681\n",
       "G5SADr_m   -18.461538    0.000000\n",
       "GHMT2r_m   -26.666667   11.590909\n",
       "ETFOXRq9_c   0.000000    1.908499\n",
       "\n",
       "[2308 rows x 2 columns]"
      ]
     },
     "metadata": {},
     "output_type": "display_data"
    },
    {
     "data": {
      "text/html": [
       "<div>\n",
       "<style scoped>\n",
       "    .dataframe tbody tr th:only-of-type {\n",
       "        vertical-align: middle;\n",
       "    }\n",
       "\n",
       "    .dataframe tbody tr th {\n",
       "        vertical-align: top;\n",
       "    }\n",
       "\n",
       "    .dataframe thead th {\n",
       "        text-align: right;\n",
       "    }\n",
       "</style>\n",
       "<table border=\"1\" class=\"dataframe\">\n",
       "  <thead>\n",
       "    <tr style=\"text-align: right;\">\n",
       "      <th></th>\n",
       "      <th>minimum</th>\n",
       "      <th>maximum</th>\n",
       "    </tr>\n",
       "  </thead>\n",
       "  <tbody>\n",
       "    <tr>\n",
       "      <th>AKGCITta_m</th>\n",
       "      <td>0.0</td>\n",
       "      <td>1000.0</td>\n",
       "    </tr>\n",
       "    <tr>\n",
       "      <th>CITMALta_m</th>\n",
       "      <td>-1000.0</td>\n",
       "      <td>60.0</td>\n",
       "    </tr>\n",
       "    <tr>\n",
       "      <th>AKGMALta_m</th>\n",
       "      <td>0.0</td>\n",
       "      <td>1000.0</td>\n",
       "    </tr>\n",
       "  </tbody>\n",
       "</table>\n",
       "</div>"
      ],
      "text/plain": [
       "            minimum  maximum\n",
       "AKGCITta_m      0.0   1000.0\n",
       "CITMALta_m  -1000.0     60.0\n",
       "AKGMALta_m      0.0   1000.0"
      ]
     },
     "metadata": {},
     "output_type": "display_data"
    }
   ],
   "source": [
    "# fvagsm = model1copy\n",
    "# fvagsm.objective = obj1\n",
    "# fvalist = [entry in different_reactions_model2 if entry.id != obj1]\n",
    "# print(model1copy.objective)\n",
    "with model3 as m:\n",
    "    obj = m.reactions.get_by_id('BIOMASS')\n",
    "    # obj.bounds = (0,1)\n",
    "    fvaresult = cobra.flux_analysis.flux_variability_analysis(m, fraction_of_optimum=0)\n",
    "    # report only values with minima of -900 or lower or maxima of 900 or higher\n",
    "    fvaresult_high = fvaresult[(fvaresult.minimum < -900) | (fvaresult.maximum > 900)]\n",
    "    display(fvaresult)\n",
    "    display(fvaresult_high)\n",
    "\n",
    "# for rxn in different_reactions_model2:\n",
    "#     if rxn.id != obj1:\n",
    "#         checkrxn = fvagsm.reactions.get_by_id(rxn.id)\n",
    "#         flux_variability_analysis(fvagsm, reaction_list=checkrxn, loopless=False)"
   ]
  },
  {
   "cell_type": "code",
   "execution_count": 10,
   "metadata": {},
   "outputs": [
    {
     "name": "stdout",
     "output_type": "stream",
     "text": [
      "               minimum      maximum\n",
      "FACOAE161_x        0.0   100.843570\n",
      "compACYLCOA_l      0.0   100.843570\n",
      "FACOAE161_c        0.0   100.843570\n",
      "MANNANH_c          0.0   100.843570\n",
      "GLCGSD_c           0.0   100.843570\n",
      "...                ...          ...\n",
      "GLUDxi_c           0.0   233.687140\n",
      "Ht_c_v             0.0   403.374279\n",
      "Ht_c_m             0.0   610.000000\n",
      "AKGMALta_m         0.0  1000.000000\n",
      "AKGCITta_m         0.0  1000.000000\n",
      "\n",
      "[236 rows x 2 columns]\n",
      "               minimum     maximum\n",
      "COAt_c_l    -100.84357  100.843570\n",
      "STCOAt_c_l  -100.84357   11.375760\n",
      "TAGt_l_rm   -100.84357  100.843570\n",
      "DOLPt_c_r   -100.84357    0.000000\n",
      "DUDPt_c_n   -100.84357    0.000000\n",
      "...                ...         ...\n",
      "UREA_c      -231.68714   37.683240\n",
      "MTHFD_c     -233.68714   20.000000\n",
      "H2Ot_c_m    -240.00000    2.060436\n",
      "MDH_c       -251.68714   90.593570\n",
      "CITMALta_m -1000.00000   60.000000\n",
      "\n",
      "[69 rows x 2 columns]\n"
     ]
    }
   ],
   "source": [
    "sorted_fvaresult = fvaresult.loc[fvaresult.maximum > 100].sort_values(by='maximum', key=lambda x: abs(x))\n",
    "print(sorted_fvaresult)\n",
    "sorted_fvaresult = fvaresult.loc[fvaresult.minimum < -100].sort_values(by='minimum', key=lambda x: abs(x))\n",
    "print(sorted_fvaresult)\n"
   ]
  },
  {
   "cell_type": "code",
   "execution_count": 11,
   "metadata": {},
   "outputs": [
    {
     "name": "stdout",
     "output_type": "stream",
     "text": [
      "Reactions that hit their upper or lower bounds: \n",
      "Reaction: AKGCITta_m\n",
      "Upper Bound: 1000.0 vs Maximum Flux: 1000.0\n",
      "Lower Bound: 0.0 vs Minimum Flux: 0.0\n",
      "\n",
      "Reaction: AKGMALta_m\n",
      "Upper Bound: 1000.0 vs Maximum Flux: 1000.0\n",
      "Lower Bound: 0.0 vs Minimum Flux: 0.0\n",
      "\n"
     ]
    }
   ],
   "source": [
    "# Report reactions that hit their upper or lower bounds\n",
    "hit_bounds_rxns = []\n",
    "for rxn in fvaresult.index:\n",
    "    if fvaresult.at[rxn, 'minimum'] == model3.reactions.get_by_id(rxn).lower_bound or fvaresult.at[rxn, 'maximum'] == model3.reactions.get_by_id(rxn).upper_bound:\n",
    "        hit_bounds_rxns.append(rxn)\n",
    "print('Reactions that hit their upper or lower bounds: ')\n",
    "for rxn in hit_bounds_rxns:\n",
    "    print(\"Reaction:\", rxn)\n",
    "    print(\"Upper Bound:\", model3.reactions.get_by_id(rxn).upper_bound, \"vs Maximum Flux:\", fvaresult.at[rxn, 'maximum'])\n",
    "    print(\"Lower Bound:\", model3.reactions.get_by_id(rxn).lower_bound, \"vs Minimum Flux:\", fvaresult.at[rxn, 'minimum'])\n",
    "    print()"
   ]
  },
  {
   "cell_type": "code",
   "execution_count": 4,
   "metadata": {},
   "outputs": [],
   "source": [
    "fvaresult.to_csv('fva-results.csv')"
   ]
  },
  {
   "cell_type": "code",
   "execution_count": null,
   "metadata": {},
   "outputs": [],
   "source": []
  }
 ],
 "metadata": {
  "kernelspec": {
   "display_name": "work1a",
   "language": "python",
   "name": "python3"
  },
  "language_info": {
   "codemirror_mode": {
    "name": "ipython",
    "version": 3
   },
   "file_extension": ".py",
   "mimetype": "text/x-python",
   "name": "python",
   "nbconvert_exporter": "python",
   "pygments_lexer": "ipython3",
   "version": "3.9.13"
  },
  "orig_nbformat": 4
 },
 "nbformat": 4,
 "nbformat_minor": 2
}
