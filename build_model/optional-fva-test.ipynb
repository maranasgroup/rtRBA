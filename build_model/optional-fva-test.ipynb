{
 "cells": [
  {
   "cell_type": "code",
   "execution_count": 1,
   "metadata": {},
   "outputs": [],
   "source": [
    "# Compares contents of multiple models\n",
    "import cobra\n",
    "import pandas as pd\n",
    "import cobra\n",
    "from collections import OrderedDict\n",
    "from copy import deepcopy\n",
    "import os\n",
    "\n",
    "from custom_functions_scRBA import *\n",
    "from cobra.flux_analysis import flux_variability_analysis"
   ]
  },
  {
   "cell_type": "code",
   "execution_count": 13,
   "metadata": {},
   "outputs": [],
   "source": [
    "# Metabolic models\n",
    "# Extract the model names from the file names (remove the file extension)\n",
    "model1_file = \"./iRhtoCN_overwritten_by_iRhtoC.json\"\n",
    "model2_file = \"./input/precursors/iRhtoC.json\"\n",
    "# model2_file = \"./input/precursors/iRhtoN.json\"\n",
    "\n",
    "# rxns to exclude when creating combined model (e.g., due to them having renamed, updated versions)\n",
    "excluded_reactions = []\n",
    "excluded_reactions = ['compACYLCOA_c','compACYLCOA_l','compACYLCOA_m','compACYLCOA_r','compACYLCOA_rm','compACYLCOA_x','BIOMASS','compFALPD_mm','compFALPD_m','compFALPD_rm','compFALPD_en','compFALPD_c']\n",
    "\n",
    "model1_name = os.path.splitext(os.path.basename(model1_file))[0]\n",
    "model2_name = os.path.splitext(os.path.basename(model2_file))[0]\n",
    "# model3_name = os.path.splitext(os.path.basename(model3_file))[0]\n",
    "\n",
    "model1 = cobra.io.load_json_model(model1_file)\n",
    "model2 = cobra.io.load_json_model(model2_file)"
   ]
  },
  {
   "cell_type": "code",
   "execution_count": 11,
   "metadata": {},
   "outputs": [
    {
     "name": "stdout",
     "output_type": "stream",
     "text": [
      "Maximize\n",
      "1.0*BIOMASS - 1.0*BIOMASS_reverse_12b42\n"
     ]
    },
    {
     "ename": "ContainerAlreadyContains",
     "evalue": "Container '<optlang.container.Container object at 0x144f03730>' already contains an object with name 'BIOMASS_reverse_12b42'.",
     "output_type": "error",
     "traceback": [
      "\u001b[0;31m---------------------------------------------------------------------------\u001b[0m",
      "\u001b[0;31mContainerAlreadyContains\u001b[0m                  Traceback (most recent call last)",
      "\u001b[1;32m/Users/ejm6426/Desktop/rtRBA/rtRBA-main/build_model/optional-fva-test.ipynb Cell 3\u001b[0m line \u001b[0;36m7\n\u001b[1;32m      <a href='vscode-notebook-cell:/Users/ejm6426/Desktop/rtRBA/rtRBA-main/build_model/optional-fva-test.ipynb#W3sZmlsZQ%3D%3D?line=4'>5</a>\u001b[0m \u001b[39mwith\u001b[39;00m model1 \u001b[39mas\u001b[39;00m model:\n\u001b[1;32m      <a href='vscode-notebook-cell:/Users/ejm6426/Desktop/rtRBA/rtRBA-main/build_model/optional-fva-test.ipynb#W3sZmlsZQ%3D%3D?line=5'>6</a>\u001b[0m     \u001b[39mprint\u001b[39m(model\u001b[39m.\u001b[39mobjective)\n\u001b[0;32m----> <a href='vscode-notebook-cell:/Users/ejm6426/Desktop/rtRBA/rtRBA-main/build_model/optional-fva-test.ipynb#W3sZmlsZQ%3D%3D?line=6'>7</a>\u001b[0m     fvaresult \u001b[39m=\u001b[39m flux_variability_analysis(model)\n\u001b[1;32m      <a href='vscode-notebook-cell:/Users/ejm6426/Desktop/rtRBA/rtRBA-main/build_model/optional-fva-test.ipynb#W3sZmlsZQ%3D%3D?line=7'>8</a>\u001b[0m     display(fvaresult)\n",
      "File \u001b[0;32m~/anaconda3/envs/work1a/lib/python3.10/site-packages/cobra/flux_analysis/variability.py:188\u001b[0m, in \u001b[0;36mflux_variability_analysis\u001b[0;34m(model, reaction_list, loopless, fraction_of_optimum, pfba_factor, processes)\u001b[0m\n\u001b[1;32m    185\u001b[0m prob \u001b[39m=\u001b[39m model\u001b[39m.\u001b[39mproblem\n\u001b[1;32m    186\u001b[0m \u001b[39mwith\u001b[39;00m model:\n\u001b[1;32m    187\u001b[0m     \u001b[39m# Safety check before setting up FVA.\u001b[39;00m\n\u001b[0;32m--> 188\u001b[0m     model\u001b[39m.\u001b[39;49mslim_optimize(\n\u001b[1;32m    189\u001b[0m         error_value\u001b[39m=\u001b[39;49m\u001b[39mNone\u001b[39;49;00m,\n\u001b[1;32m    190\u001b[0m         message\u001b[39m=\u001b[39;49m\u001b[39m\"\u001b[39;49m\u001b[39mThere is no optimal solution for the chosen objective!\u001b[39;49m\u001b[39m\"\u001b[39;49m,\n\u001b[1;32m    191\u001b[0m     )\n\u001b[1;32m    192\u001b[0m     \u001b[39m# Add the previous objective as a variable to the model then set it to\u001b[39;00m\n\u001b[1;32m    193\u001b[0m     \u001b[39m# zero. This also uses the fraction to create the lower/upper bound for\u001b[39;00m\n\u001b[1;32m    194\u001b[0m     \u001b[39m# the old objective.\u001b[39;00m\n\u001b[1;32m    195\u001b[0m     \u001b[39m# TODO: Use utility function here (fix_objective_as_constraint)?\u001b[39;00m\n\u001b[1;32m    196\u001b[0m     \u001b[39mif\u001b[39;00m model\u001b[39m.\u001b[39msolver\u001b[39m.\u001b[39mobjective\u001b[39m.\u001b[39mdirection \u001b[39m==\u001b[39m \u001b[39m\"\u001b[39m\u001b[39mmax\u001b[39m\u001b[39m\"\u001b[39m:\n",
      "File \u001b[0;32m~/anaconda3/envs/work1a/lib/python3.10/site-packages/cobra/core/model.py:1194\u001b[0m, in \u001b[0;36mModel.slim_optimize\u001b[0;34m(self, error_value, message)\u001b[0m\n\u001b[1;32m   1156\u001b[0m \u001b[39mdef\u001b[39;00m \u001b[39mslim_optimize\u001b[39m(\n\u001b[1;32m   1157\u001b[0m     \u001b[39mself\u001b[39m, error_value: Optional[\u001b[39mfloat\u001b[39m] \u001b[39m=\u001b[39m \u001b[39mfloat\u001b[39m(\u001b[39m\"\u001b[39m\u001b[39mnan\u001b[39m\u001b[39m\"\u001b[39m), message: Optional[\u001b[39mstr\u001b[39m] \u001b[39m=\u001b[39m \u001b[39mNone\u001b[39;00m\n\u001b[1;32m   1158\u001b[0m ) \u001b[39m-\u001b[39m\u001b[39m>\u001b[39m \u001b[39mfloat\u001b[39m:\n\u001b[1;32m   1159\u001b[0m \u001b[39m    \u001b[39m\u001b[39m\"\"\"Optimize model without creating a solution object.\u001b[39;00m\n\u001b[1;32m   1160\u001b[0m \n\u001b[1;32m   1161\u001b[0m \u001b[39m    Creating a full solution object implies fetching shadow prices and\u001b[39;00m\n\u001b[0;32m   (...)\u001b[0m\n\u001b[1;32m   1192\u001b[0m \u001b[39m        If error_value was set as None and the optimization fails.\u001b[39;00m\n\u001b[1;32m   1193\u001b[0m \u001b[39m    \"\"\"\u001b[39;00m\n\u001b[0;32m-> 1194\u001b[0m     \u001b[39mself\u001b[39;49m\u001b[39m.\u001b[39;49msolver\u001b[39m.\u001b[39;49moptimize()\n\u001b[1;32m   1195\u001b[0m     \u001b[39mif\u001b[39;00m \u001b[39mself\u001b[39m\u001b[39m.\u001b[39msolver\u001b[39m.\u001b[39mstatus \u001b[39m==\u001b[39m optlang\u001b[39m.\u001b[39minterface\u001b[39m.\u001b[39mOPTIMAL:\n\u001b[1;32m   1196\u001b[0m         \u001b[39mreturn\u001b[39;00m \u001b[39mself\u001b[39m\u001b[39m.\u001b[39msolver\u001b[39m.\u001b[39mobjective\u001b[39m.\u001b[39mvalue\n",
      "File \u001b[0;32m~/anaconda3/envs/work1a/lib/python3.10/site-packages/optlang/interface.py:1515\u001b[0m, in \u001b[0;36mModel.optimize\u001b[0;34m(self)\u001b[0m\n\u001b[1;32m   1500\u001b[0m \u001b[39mdef\u001b[39;00m \u001b[39moptimize\u001b[39m(\u001b[39mself\u001b[39m):\n\u001b[1;32m   1501\u001b[0m \u001b[39m    \u001b[39m\u001b[39m\"\"\"\u001b[39;00m\n\u001b[1;32m   1502\u001b[0m \u001b[39m    Solve the optimization problem using the relevant solver back-end.\u001b[39;00m\n\u001b[1;32m   1503\u001b[0m \u001b[39m    The status returned by this method tells whether an optimal solution was found,\u001b[39;00m\n\u001b[0;32m   (...)\u001b[0m\n\u001b[1;32m   1513\u001b[0m \u001b[39m        Solution status.\u001b[39;00m\n\u001b[1;32m   1514\u001b[0m \u001b[39m    \"\"\"\u001b[39;00m\n\u001b[0;32m-> 1515\u001b[0m     \u001b[39mself\u001b[39;49m\u001b[39m.\u001b[39;49mupdate()\n\u001b[1;32m   1516\u001b[0m     status \u001b[39m=\u001b[39m \u001b[39mself\u001b[39m\u001b[39m.\u001b[39m_optimize()\n\u001b[1;32m   1517\u001b[0m     \u001b[39mif\u001b[39;00m status \u001b[39m!=\u001b[39m OPTIMAL \u001b[39mand\u001b[39;00m \u001b[39mself\u001b[39m\u001b[39m.\u001b[39mconfiguration\u001b[39m.\u001b[39mpresolve \u001b[39m==\u001b[39m \u001b[39m\"\u001b[39m\u001b[39mauto\u001b[39m\u001b[39m\"\u001b[39m:\n",
      "File \u001b[0;32m~/anaconda3/envs/work1a/lib/python3.10/site-packages/optlang/interface.py:1474\u001b[0m, in \u001b[0;36mModel.update\u001b[0;34m(self, callback)\u001b[0m\n\u001b[1;32m   1472\u001b[0m add_constr \u001b[39m=\u001b[39m \u001b[39mself\u001b[39m\u001b[39m.\u001b[39m_pending_modifications\u001b[39m.\u001b[39madd_constr\n\u001b[1;32m   1473\u001b[0m \u001b[39mif\u001b[39;00m \u001b[39mlen\u001b[39m(add_constr) \u001b[39m>\u001b[39m \u001b[39m0\u001b[39m:\n\u001b[0;32m-> 1474\u001b[0m     \u001b[39mself\u001b[39;49m\u001b[39m.\u001b[39;49m_add_constraints(add_constr)\n\u001b[1;32m   1475\u001b[0m     \u001b[39mself\u001b[39m\u001b[39m.\u001b[39m_pending_modifications\u001b[39m.\u001b[39madd_constr \u001b[39m=\u001b[39m []\n\u001b[1;32m   1477\u001b[0m add_constr_sloppy \u001b[39m=\u001b[39m \u001b[39mself\u001b[39m\u001b[39m.\u001b[39m_pending_modifications\u001b[39m.\u001b[39madd_constr_sloppy\n",
      "File \u001b[0;32m~/anaconda3/envs/work1a/lib/python3.10/site-packages/optlang/cplex_interface.py:861\u001b[0m, in \u001b[0;36mModel._add_constraints\u001b[0;34m(self, constraints, sloppy)\u001b[0m\n\u001b[1;32m    860\u001b[0m \u001b[39mdef\u001b[39;00m \u001b[39m_add_constraints\u001b[39m(\u001b[39mself\u001b[39m, constraints, sloppy\u001b[39m=\u001b[39m\u001b[39mFalse\u001b[39;00m):\n\u001b[0;32m--> 861\u001b[0m     \u001b[39msuper\u001b[39;49m(Model, \u001b[39mself\u001b[39;49m)\u001b[39m.\u001b[39;49m_add_constraints(constraints, sloppy\u001b[39m=\u001b[39;49msloppy)\n\u001b[1;32m    863\u001b[0m     linear_constraints \u001b[39m=\u001b[39m \u001b[39mdict\u001b[39m(lin_expr\u001b[39m=\u001b[39m[], senses\u001b[39m=\u001b[39m[], rhs\u001b[39m=\u001b[39m[], range_values\u001b[39m=\u001b[39m[], names\u001b[39m=\u001b[39m[])\n\u001b[1;32m    864\u001b[0m     \u001b[39mfor\u001b[39;00m constraint \u001b[39min\u001b[39;00m constraints:\n",
      "File \u001b[0;32m~/anaconda3/envs/work1a/lib/python3.10/site-packages/optlang/interface.py:1577\u001b[0m, in \u001b[0;36mModel._add_constraints\u001b[0;34m(self, constraints, sloppy)\u001b[0m\n\u001b[1;32m   1575\u001b[0m missing_vars \u001b[39m=\u001b[39m [var \u001b[39mfor\u001b[39;00m var \u001b[39min\u001b[39;00m variables \u001b[39mif\u001b[39;00m var\u001b[39m.\u001b[39mproblem \u001b[39mis\u001b[39;00m \u001b[39mnot\u001b[39;00m \u001b[39mself\u001b[39m]\n\u001b[1;32m   1576\u001b[0m \u001b[39mif\u001b[39;00m \u001b[39mlen\u001b[39m(missing_vars) \u001b[39m>\u001b[39m \u001b[39m0\u001b[39m:\n\u001b[0;32m-> 1577\u001b[0m     \u001b[39mself\u001b[39;49m\u001b[39m.\u001b[39;49m_add_variables(missing_vars)\n\u001b[1;32m   1578\u001b[0m \u001b[39mfor\u001b[39;00m var \u001b[39min\u001b[39;00m variables:\n\u001b[1;32m   1579\u001b[0m     \u001b[39mtry\u001b[39;00m:\n",
      "File \u001b[0;32m~/anaconda3/envs/work1a/lib/python3.10/site-packages/optlang/cplex_interface.py:825\u001b[0m, in \u001b[0;36mModel._add_variables\u001b[0;34m(self, variables)\u001b[0m\n\u001b[1;32m    824\u001b[0m \u001b[39mdef\u001b[39;00m \u001b[39m_add_variables\u001b[39m(\u001b[39mself\u001b[39m, variables):\n\u001b[0;32m--> 825\u001b[0m     \u001b[39msuper\u001b[39;49m(Model, \u001b[39mself\u001b[39;49m)\u001b[39m.\u001b[39;49m_add_variables(variables)\n\u001b[1;32m    826\u001b[0m     lb, ub, vtype, names, coeff \u001b[39m=\u001b[39m \u001b[39mlist\u001b[39m(), \u001b[39mlist\u001b[39m(), \u001b[39mlist\u001b[39m(), \u001b[39mlist\u001b[39m(), \u001b[39mlist\u001b[39m()\n\u001b[1;32m    827\u001b[0m     \u001b[39mfor\u001b[39;00m variable \u001b[39min\u001b[39;00m variables:\n",
      "File \u001b[0;32m~/anaconda3/envs/work1a/lib/python3.10/site-packages/optlang/interface.py:1537\u001b[0m, in \u001b[0;36mModel._add_variables\u001b[0;34m(self, variables)\u001b[0m\n\u001b[1;32m   1535\u001b[0m \u001b[39mdef\u001b[39;00m \u001b[39m_add_variables\u001b[39m(\u001b[39mself\u001b[39m, variables):\n\u001b[1;32m   1536\u001b[0m     \u001b[39mfor\u001b[39;00m variable \u001b[39min\u001b[39;00m variables:\n\u001b[0;32m-> 1537\u001b[0m         \u001b[39mself\u001b[39;49m\u001b[39m.\u001b[39;49m_variables\u001b[39m.\u001b[39;49mappend(variable)\n\u001b[1;32m   1538\u001b[0m         \u001b[39mself\u001b[39m\u001b[39m.\u001b[39m_variables_to_constraints_mapping[variable\u001b[39m.\u001b[39mname] \u001b[39m=\u001b[39m \u001b[39mset\u001b[39m([])\n\u001b[1;32m   1539\u001b[0m         variable\u001b[39m.\u001b[39mproblem \u001b[39m=\u001b[39m \u001b[39mself\u001b[39m\n",
      "File \u001b[0;32m~/anaconda3/envs/work1a/lib/python3.10/site-packages/optlang/container.py:172\u001b[0m, in \u001b[0;36mContainer.append\u001b[0;34m(self, value)\u001b[0m\n\u001b[1;32m    170\u001b[0m name \u001b[39m=\u001b[39m value\u001b[39m.\u001b[39mname\n\u001b[1;32m    171\u001b[0m \u001b[39mif\u001b[39;00m name \u001b[39min\u001b[39;00m \u001b[39mself\u001b[39m\u001b[39m.\u001b[39m_dict:\n\u001b[0;32m--> 172\u001b[0m     \u001b[39mraise\u001b[39;00m ContainerAlreadyContains(\u001b[39m\"\u001b[39m\u001b[39mContainer \u001b[39m\u001b[39m'\u001b[39m\u001b[39m%s\u001b[39;00m\u001b[39m'\u001b[39m\u001b[39m already contains an object with name \u001b[39m\u001b[39m'\u001b[39m\u001b[39m%s\u001b[39;00m\u001b[39m'\u001b[39m\u001b[39m.\u001b[39m\u001b[39m\"\u001b[39m \u001b[39m%\u001b[39m (\u001b[39mself\u001b[39m, value\u001b[39m.\u001b[39mname))\n\u001b[1;32m    173\u001b[0m \u001b[39mself\u001b[39m\u001b[39m.\u001b[39m_indices[name] \u001b[39m=\u001b[39m \u001b[39mlen\u001b[39m(\u001b[39mself\u001b[39m)\n\u001b[1;32m    174\u001b[0m \u001b[39mself\u001b[39m\u001b[39m.\u001b[39m_object_list\u001b[39m.\u001b[39mappend(value)\n",
      "\u001b[0;31mContainerAlreadyContains\u001b[0m: Container '<optlang.container.Container object at 0x144f03730>' already contains an object with name 'BIOMASS_reverse_12b42'."
     ]
    }
   ],
   "source": [
    "# fvagsm = model1copy\n",
    "# fvagsm.objective = obj1\n",
    "# fvalist = [entry in different_reactions_model2 if entry.id != obj1]\n",
    "# print(model1copy.objective)\n",
    "with model1 as model:\n",
    "    print(model.objective)\n",
    "    fvaresult = flux_variability_analysis(model)\n",
    "    display(fvaresult)"
   ]
  },
  {
   "cell_type": "code",
   "execution_count": 8,
   "metadata": {},
   "outputs": [],
   "source": [
    "fvaPath = './input/precursors/fva_iRhto/fva_iRhtoCN_overwritten_by_iRhtoC.json'\n",
    "df = pd.read_json(fvaPath)\n",
    "with pd.ExcelWriter(fvaPath.replace(\".json\",\".xlsx\")) as writer:\n",
    "    df.to_excel(writer)"
   ]
  },
  {
   "cell_type": "code",
   "execution_count": null,
   "metadata": {},
   "outputs": [],
   "source": []
  }
 ],
 "metadata": {
  "kernelspec": {
   "display_name": "work1a",
   "language": "python",
   "name": "python3"
  },
  "language_info": {
   "codemirror_mode": {
    "name": "ipython",
    "version": 3
   },
   "file_extension": ".py",
   "mimetype": "text/x-python",
   "name": "python",
   "nbconvert_exporter": "python",
   "pygments_lexer": "ipython3",
   "version": "3.10.11"
  },
  "orig_nbformat": 4
 },
 "nbformat": 4,
 "nbformat_minor": 2
}
