{
 "cells": [
  {
   "cell_type": "code",
   "execution_count": 1,
   "metadata": {},
   "outputs": [],
   "source": [
    "import pandas as pd\n",
    "import numpy as np\n",
    "\n",
    "import os\n",
    "import sys\n",
    "sys.path.append('../../pycore/')\n",
    "from simulate import RBA_result\n",
    "from utils import extract_details_from_rxnid\n",
    "\n",
    "import matplotlib.pyplot as plt\n",
    "import matplotlib.patches as mp\n",
    "import matplotlib.lines as mlines\n",
    "from gsm_custom_functions import *\n",
    "%matplotlib inline"
   ]
  },
  {
   "cell_type": "code",
   "execution_count": 2,
   "metadata": {},
   "outputs": [
    {
     "data": {
      "application/vnd.microsoft.datawrangler.viewer.v0+json": {
       "columns": [
        {
         "name": "index",
         "rawType": "int64",
         "type": "integer"
        },
        {
         "name": "subsystem",
         "rawType": "object",
         "type": "string"
        },
        {
         "name": "name",
         "rawType": "object",
         "type": "string"
        },
        {
         "name": "rtRBA $k_{app}$ ($h^{-1}$)",
         "rawType": "object",
         "type": "unknown"
        },
        {
         "name": "scRBA $k_{app}$ ($h^{-1}$)",
         "rawType": "object",
         "type": "unknown"
        }
       ],
       "ref": "f0f914cf-5010-43b2-9a27-7e91e63dfcd3",
       "rows": [
        [
         "0",
         "Starch and sucrose metabolism",
         "13GS_c_FWD-rt7616",
         "561171.130789104",
         "115909.40787407316"
        ],
        [
         "1",
         "Cell wall biosynthesis",
         "16GS_c_FWD-rt0150",
         "59929.60256938188",
         "51281.36901863604"
        ],
        [
         "2",
         "Cell wall biosynthesis",
         "16GS_c_FWD-rt3279",
         "59929.60256938188",
         "51281.36901863604"
        ],
        [
         "3",
         "Transport",
         "2OXOADPt_c_m_FWD-rt2267",
         "990193.1602236661",
         "172355.37046733772"
        ],
        [
         "4",
         "Fatty acid elongation",
         "3HACD260_rm_FWD-rt2309",
         "11720.010088416455",
         "632265.5198424241"
        ],
        [
         "5",
         "Fatty acid elongation",
         "3OACE240_rm_FWD-rt2975",
         "178647.52257282636",
         "583.906937271642"
        ],
        [
         "6",
         "Fatty acid elongation",
         "3OACE240_rm_FWD-rt8287",
         "17318157.992500283",
         "583.906937271642"
        ],
        [
         "7",
         "Fatty acid elongation",
         "3OACE260_rm_FWD-rt2975",
         "178647.52257282636",
         "75203.79338508948"
        ],
        [
         "8",
         "Fatty acid elongation",
         "3OACE260_rm_FWD-rt8287",
         "17318157.992500283",
         "75203.79338508948"
        ],
        [
         "9",
         "Fatty acid elongation",
         "3OACR260_rm_FWD-rt8327",
         "8449.497464177484",
         "81323.11043386596"
        ],
        [
         "10",
         "Lysine metabolism",
         "AASADy_c_FWD-LYS25",
         "24430302.666778572",
         "5694336.325804932"
        ],
        [
         "11",
         "Lysine metabolism",
         "AATA_c_FWD-rt0172",
         "53334.006007740834",
         "20503.211386446903"
        ],
        [
         "12",
         "Lysine metabolism",
         "AATA_c_FWD-rt4039",
         "22307.161507922847",
         "20503.211386446903"
        ],
        [
         "13",
         "Lysine metabolism",
         "AATA_c_FWD-rt7471",
         "417809.41459289636",
         "20503.211386446903"
        ],
        [
         "14",
         "Alanine, aspartate and glutamate metabolism",
         "ABTA_c_FWD-rt2569",
         "537.7381857168912",
         "342694.7194840358"
        ],
        [
         "15",
         "Alanine, aspartate and glutamate metabolism",
         "ABTA_c_FWD-rt7537",
         "537.7381857168912",
         "342694.7194840358"
        ],
        [
         "16",
         "Terpenoid backbone biosynthesis",
         "ACACT40ir_c_FWD-rt0310",
         "7704.033804864287",
         "10196.432556042528"
        ],
        [
         "17",
         "Fatty acid biosynthesis",
         "ACCOAC_c_FWD-rt0271",
         "146775.36467116082",
         "30376.556083447493"
        ],
        [
         "18",
         "Amino sugar and nucleotide sugar metabolism",
         "ACGAM6PS_c_FWD-rt4107",
         "10323.602698231549",
         "9401.574433323924"
        ],
        [
         "19",
         "Amino sugar and nucleotide sugar metabolism",
         "ACGAMPM_c_FWD-rt4597",
         "3083.5654941083253",
         "3117.3907091539863"
        ],
        [
         "20",
         "Arginine and proline metabolism",
         "ACGK_m_FWD-rt1009",
         "59538.34883427624",
         "125888.02127497943"
        ],
        [
         "21",
         "Valine, leucine and isoleucine metabolism",
         "ACHBS_m_FWD-ILV26",
         "39147.237029825636",
         "29737.46700603432"
        ],
        [
         "22",
         "Valine, leucine and isoleucine metabolism",
         "ACHBS_m_FWD-rt7317",
         "12707943826999.645",
         "29737.46700603432"
        ],
        [
         "23",
         "Valine, leucine and isoleucine metabolism",
         "ACLS_m_FWD-ILV26",
         "39147.237029825636",
         "29737.46700603432"
        ],
        [
         "24",
         "Valine, leucine and isoleucine metabolism",
         "ACLS_m_FWD-rt7317",
         "12707943826999.645",
         "29737.46700603432"
        ],
        [
         "25",
         "Biosynthesis of unsaturated fatty acids",
         "ACOADS180_rm_FWD-rt1362",
         "30777.290133255934",
         "2229.3440950691806"
        ],
        [
         "26",
         "Citric acid cycle",
         "ACONTa_m_FWD-rt3256",
         "236508.83033801685",
         "90114.14441583"
        ],
        [
         "27",
         "Citric acid cycle",
         "ACONTa_m_FWD-rt6232",
         "2035976.004420073",
         "90114.14441583"
        ],
        [
         "28",
         "Citric acid cycle",
         "ACONTb_m_FWD-rt3256",
         "236508.83033801685",
         "90114.14441583"
        ],
        [
         "29",
         "Citric acid cycle",
         "ACONTb_m_FWD-rt6232",
         "2035976.004420073",
         "90114.14441583"
        ],
        [
         "30",
         "Arginine and proline metabolism",
         "ACOTAi_m_FWD-rt6510",
         "230869.64785794803",
         "176964.72699080702"
        ],
        [
         "31",
         "Acetyl-CoA synthesis",
         "ACS_c_FWD-rt6229_c",
         "4706.835754380768",
         "62987.20735925772"
        ],
        [
         "32",
         "Purine metabolism",
         "ADK1_c_FWD-rt3932",
         "137040.40381848015",
         "127018.11026464633"
        ],
        [
         "33",
         "Purine metabolism",
         "ADK1_c_FWD-rt7128_c",
         "137040.40381848015",
         "127018.11026464633"
        ],
        [
         "34",
         "Purine metabolism",
         "ADNK1_c_FWD-rt0017",
         "4384.375973099568",
         "1623.174552441997"
        ],
        [
         "35",
         "Transport",
         "ADPATPt_c_m_FWD-rt4336",
         "665149.8504395016",
         "964725.6648004956"
        ],
        [
         "36",
         "Purine metabolism",
         "ADSK_c_FWD-rt0341",
         "9562.677366872915",
         "6844.173703402104"
        ],
        [
         "37",
         "Purine metabolism",
         "ADSL1r_c_FWD-rt7437",
         "77340.83055883308",
         "40962.979005932524"
        ],
        [
         "38",
         "Purine metabolism",
         "ADSL2i_c_FWD-rt7437",
         "77340.83055883308",
         "40962.979005932524"
        ],
        [
         "39",
         "Purine metabolism",
         "ADSS_c_FWD-rt3802",
         "13142.110740723649",
         "12902.188236205573"
        ],
        [
         "40",
         "Riboflavin metabolism",
         "AFAT_c_FWD-rt3174_c",
         "77.30925817288464",
         "130.9489782089105"
        ],
        [
         "41",
         "Glycerophospholipid biosynthesis",
         "AGPAT_rm_FWD-rt2059_rm",
         "43086.44154114432",
         "144966.54364927596"
        ],
        [
         "42",
         "Glycerophospholipid biosynthesis",
         "AGPAT_rm_FWD-rt7662",
         "43086.44154114432",
         "144966.54364927596"
        ],
        [
         "43",
         "Arginine and proline metabolism",
         "AGPRi_m_FWD-rt1009",
         "59538.34883427624",
         "125888.02127497943"
        ],
        [
         "44",
         "Cysteine and methionine metabolism",
         "AHCi_c_FWD-rt4544",
         "3722.4747281274476",
         "820.2500538072084"
        ],
        [
         "45",
         "Cysteine and methionine metabolism",
         "AHSERL2_c_FWD-rt8250",
         "660242.1723479712",
         "3406.612663408079"
        ],
        [
         "46",
         "Purine metabolism",
         "AICART_c_FWD-rt4053",
         "11857.010985128412",
         "115517.94473399257"
        ],
        [
         "47",
         "Purine metabolism",
         "AIRC1_c_FWD-rt3764",
         "19049.307610131324",
         "7455.520003341817"
        ],
        [
         "48",
         "Transport",
         "AKGCITta_m_FWD-rt8378",
         "22482.565977163104",
         "0.0540066385673334"
        ],
        [
         "49",
         "Citric acid cycle",
         "AKGDH_m_FWD-KGDCPLX",
         "545291.1629430047",
         "327265.9186139996"
        ]
       ],
       "shape": {
        "columns": 4,
        "rows": 359
       }
      },
      "text/html": [
       "<div>\n",
       "<style scoped>\n",
       "    .dataframe tbody tr th:only-of-type {\n",
       "        vertical-align: middle;\n",
       "    }\n",
       "\n",
       "    .dataframe tbody tr th {\n",
       "        vertical-align: top;\n",
       "    }\n",
       "\n",
       "    .dataframe thead th {\n",
       "        text-align: right;\n",
       "    }\n",
       "</style>\n",
       "<table border=\"1\" class=\"dataframe\">\n",
       "  <thead>\n",
       "    <tr style=\"text-align: right;\">\n",
       "      <th></th>\n",
       "      <th>subsystem</th>\n",
       "      <th>name</th>\n",
       "      <th>rtRBA $k_{app}$ ($h^{-1}$)</th>\n",
       "      <th>scRBA $k_{app}$ ($h^{-1}$)</th>\n",
       "    </tr>\n",
       "  </thead>\n",
       "  <tbody>\n",
       "    <tr>\n",
       "      <th>0</th>\n",
       "      <td>Starch and sucrose metabolism</td>\n",
       "      <td>13GS_c_FWD-rt7616</td>\n",
       "      <td>561171.130789</td>\n",
       "      <td>115909.407874</td>\n",
       "    </tr>\n",
       "    <tr>\n",
       "      <th>1</th>\n",
       "      <td>Cell wall biosynthesis</td>\n",
       "      <td>16GS_c_FWD-rt0150</td>\n",
       "      <td>59929.602569</td>\n",
       "      <td>51281.369019</td>\n",
       "    </tr>\n",
       "    <tr>\n",
       "      <th>2</th>\n",
       "      <td>Cell wall biosynthesis</td>\n",
       "      <td>16GS_c_FWD-rt3279</td>\n",
       "      <td>59929.602569</td>\n",
       "      <td>51281.369019</td>\n",
       "    </tr>\n",
       "    <tr>\n",
       "      <th>3</th>\n",
       "      <td>Transport</td>\n",
       "      <td>2OXOADPt_c_m_FWD-rt2267</td>\n",
       "      <td>990193.160224</td>\n",
       "      <td>172355.370467</td>\n",
       "    </tr>\n",
       "    <tr>\n",
       "      <th>4</th>\n",
       "      <td>Fatty acid elongation</td>\n",
       "      <td>3HACD260_rm_FWD-rt2309</td>\n",
       "      <td>11720.010088</td>\n",
       "      <td>632265.519842</td>\n",
       "    </tr>\n",
       "    <tr>\n",
       "      <th>...</th>\n",
       "      <td>...</td>\n",
       "      <td>...</td>\n",
       "      <td>...</td>\n",
       "      <td>...</td>\n",
       "    </tr>\n",
       "    <tr>\n",
       "      <th>354</th>\n",
       "      <td>Valine, leucine and isoleucine metabolism</td>\n",
       "      <td>VALTA_m_REV-rt6242_m</td>\n",
       "      <td>59914.795941</td>\n",
       "      <td>47302.578884</td>\n",
       "    </tr>\n",
       "    <tr>\n",
       "      <th>355</th>\n",
       "      <td>Aminoacyl-tRNA biosynthesis</td>\n",
       "      <td>VALTRS_c_FWD-rt8160_c</td>\n",
       "      <td>27666.462991</td>\n",
       "      <td>18299.229615</td>\n",
       "    </tr>\n",
       "    <tr>\n",
       "      <th>356</th>\n",
       "      <td>Pyrimidine metabolism</td>\n",
       "      <td>YUMPS_c_REV-rt6068</td>\n",
       "      <td>0.0</td>\n",
       "      <td>0.0</td>\n",
       "    </tr>\n",
       "    <tr>\n",
       "      <th>357</th>\n",
       "      <td>Pyrimidine metabolism</td>\n",
       "      <td>YUMPS_c_REV-rt7720</td>\n",
       "      <td>0.0</td>\n",
       "      <td>0.0</td>\n",
       "    </tr>\n",
       "    <tr>\n",
       "      <th>358</th>\n",
       "      <td>Pyrimidine metabolism</td>\n",
       "      <td>YUMPS_c_REV-rt8055</td>\n",
       "      <td>0.0</td>\n",
       "      <td>0.0</td>\n",
       "    </tr>\n",
       "  </tbody>\n",
       "</table>\n",
       "<p>359 rows × 4 columns</p>\n",
       "</div>"
      ],
      "text/plain": [
       "                                     subsystem                     name  \\\n",
       "0                Starch and sucrose metabolism        13GS_c_FWD-rt7616   \n",
       "1                       Cell wall biosynthesis        16GS_c_FWD-rt0150   \n",
       "2                       Cell wall biosynthesis        16GS_c_FWD-rt3279   \n",
       "3                                    Transport  2OXOADPt_c_m_FWD-rt2267   \n",
       "4                        Fatty acid elongation   3HACD260_rm_FWD-rt2309   \n",
       "..                                         ...                      ...   \n",
       "354  Valine, leucine and isoleucine metabolism     VALTA_m_REV-rt6242_m   \n",
       "355                Aminoacyl-tRNA biosynthesis    VALTRS_c_FWD-rt8160_c   \n",
       "356                      Pyrimidine metabolism       YUMPS_c_REV-rt6068   \n",
       "357                      Pyrimidine metabolism       YUMPS_c_REV-rt7720   \n",
       "358                      Pyrimidine metabolism       YUMPS_c_REV-rt8055   \n",
       "\n",
       "    rtRBA $k_{app}$ ($h^{-1}$) scRBA $k_{app}$ ($h^{-1}$)  \n",
       "0                561171.130789              115909.407874  \n",
       "1                 59929.602569               51281.369019  \n",
       "2                 59929.602569               51281.369019  \n",
       "3                990193.160224              172355.370467  \n",
       "4                 11720.010088              632265.519842  \n",
       "..                         ...                        ...  \n",
       "354               59914.795941               47302.578884  \n",
       "355               27666.462991               18299.229615  \n",
       "356                        0.0                        0.0  \n",
       "357                        0.0                        0.0  \n",
       "358                        0.0                        0.0  \n",
       "\n",
       "[359 rows x 4 columns]"
      ]
     },
     "execution_count": 2,
     "metadata": {},
     "output_type": "execute_result"
    }
   ],
   "source": [
    "datasets = []\n",
    "sigfigs = 2\n",
    "df_kapp = pd.read_excel('../../build_model/input/precursors/RekenaEtAl2023/kapp-comparisons.xlsx', sheet_name='all datasets')\n",
    "# rows below AD5 and AG5 contain the raw data (log scaling done later), while row above contains column names\n",
    "df_kapp = df_kapp.iloc[2:]\n",
    "df_kapp.columns = df_kapp.iloc[0]\n",
    "df_kapp = df_kapp.iloc[1:]\n",
    "\n",
    "# take only columns AD thru AG\n",
    "df_kapp = df_kapp.iloc[:, 29:33]\n",
    "\n",
    "# remove empty rows\n",
    "df_kapp = df_kapp.dropna()\n",
    "\n",
    "# update index, excluding the first row\n",
    "# select data and axis labels\n",
    "df_kapp.columns = ['subsystem', 'name', 'rtRBA $k_{app}$ ($h^{-1}$)', 'scRBA $k_{app}$ ($h^{-1}$)']\n",
    "df_kapp.index = range(len(df_kapp))\n",
    "# show the data\n",
    "df_kapp"
   ]
  },
  {
   "cell_type": "code",
   "execution_count": 3,
   "metadata": {},
   "outputs": [
    {
     "data": {
      "application/vnd.microsoft.datawrangler.viewer.v0+json": {
       "columns": [
        {
         "name": "index",
         "rawType": "int64",
         "type": "integer"
        },
        {
         "name": "SC name",
         "rawType": "object",
         "type": "string"
        },
        {
         "name": "SC data.1",
         "rawType": "float64",
         "type": "float"
        },
        {
         "name": "B_frac.1",
         "rawType": "float64",
         "type": "float"
        }
       ],
       "ref": "5537c24e-4dc0-42c6-a894-ded678a712c4",
       "rows": [
        [
         "0",
         "Q0045",
         "0.00279780819452371",
         "3.66e-05"
        ],
        [
         "1",
         "Q0080",
         "1.06254097051413e-05",
         "1.72e-06"
        ],
        [
         "2",
         "Q0085",
         "0.000199069893148011",
         "8.83e-05"
        ],
        [
         "3",
         "Q0105",
         "0.016497109652314",
         "0.005359"
        ],
        [
         "4",
         "Q0250",
         "0.000473411615864939",
         "0.000283"
        ],
        [
         "5",
         "Q0275",
         "0.000792202338069113",
         "0.000642"
        ],
        [
         "6",
         "YAL012W",
         "3.44886848226145e-06",
         "0.000206"
        ],
        [
         "7",
         "YAL022C",
         "9.1874288727139e-06",
         "8.08e-05"
        ],
        [
         "8",
         "YAL023C",
         "3.77481339125067e-06",
         "0.000106"
        ],
        [
         "9",
         "YAL038W",
         "0.000157518968056804",
         "0.000445"
        ],
        [
         "10",
         "YAL044C",
         "0.0024457745307866",
         "0.008648"
        ],
        [
         "11",
         "YAL060W",
         "2.52183845642887e-05",
         "5.73e-05"
        ],
        [
         "12",
         "YAL062W",
         "0.000633552858064964",
         "0.000503"
        ],
        [
         "13",
         "YAR015W",
         "1.46682026278927e-05",
         "0.000176"
        ],
        [
         "14",
         "YAR035W",
         "0.00134156689120607",
         "0.001382"
        ],
        [
         "15",
         "YAR071W",
         "6.8030993000019e-05",
         "3.08e-05"
        ],
        [
         "16",
         "YBL011W",
         "0.00252949001407423",
         "0.008451"
        ],
        [
         "17",
         "YBL013W",
         "1.19006823279206e-05",
         "1.79e-05"
        ],
        [
         "18",
         "YBL015W",
         "3.26247809885274e-05",
         "7.48e-05"
        ],
        [
         "19",
         "YBL030C",
         "3.74201476145553e-05",
         "0.000222"
        ],
        [
         "20",
         "YBL033C",
         "0.00336175577186465",
         "0.002534"
        ],
        [
         "21",
         "YBL039C",
         "5.90433128258327e-06",
         "7.94e-06"
        ],
        [
         "22",
         "YBL042C",
         "2.60072424774529e-05",
         "4.24e-05"
        ],
        [
         "23",
         "YBL076C",
         "4.58722559552713e-05",
         "2.61e-05"
        ],
        [
         "24",
         "YBL098W",
         "7.36812897636711e-05",
         "9.05e-05"
        ],
        [
         "25",
         "YBL099W",
         "0.000159783563590095",
         "0.000403"
        ],
        [
         "26",
         "YBR002C",
         "0.000167638867534709",
         "2.59e-05"
        ],
        [
         "27",
         "YBR003W",
         "1.68617662754915e-05",
         "9.04e-06"
        ],
        [
         "28",
         "YBR004C",
         "0.000491334420782009",
         "0.000726"
        ],
        [
         "29",
         "YBR006W",
         "1.59198609163186e-05",
         "4.91e-05"
        ],
        [
         "30",
         "YBR011C",
         "3.04424823758698e-06",
         "6.310000000000001e-07"
        ],
        [
         "31",
         "YBR018C",
         "0.00050394523098189",
         "0.003685"
        ],
        [
         "32",
         "YBR019C",
         "2.21692095241889e-05",
         "2.159e-05"
        ],
        [
         "33",
         "YBR020W",
         "1.44083591555671e-05",
         "8.05e-06"
        ],
        [
         "34",
         "YBR021W",
         "0.00161589315788947",
         "0.00078"
        ],
        [
         "35",
         "YBR023C",
         "0.0014512979757201",
         "0.001246"
        ],
        [
         "36",
         "YBR026C",
         "0.000171599262849288",
         "0.000213"
        ],
        [
         "37",
         "YBR029C",
         "0.00209319247534062",
         "0.000548"
        ],
        [
         "38",
         "YBR034C",
         "1.76513628996876e-05",
         "4.25e-05"
        ],
        [
         "39",
         "YBR035C",
         "8.17436279565733e-07",
         "2.61e-06"
        ],
        [
         "40",
         "YBR038W",
         "0.000111284515152592",
         "0.000121"
        ],
        [
         "41",
         "YBR039W",
         "4.65911037010354e-05",
         "8.95e-05"
        ],
        [
         "42",
         "YBR041W",
         "2.34321432011796e-05",
         "7.39e-05"
        ],
        [
         "43",
         "YBR042C",
         "4.15004606935658e-05",
         "7.83e-05"
        ],
        [
         "44",
         "YBR084W",
         "0.0027773580226696",
         "0.002039"
        ],
        [
         "45",
         "YBR097W",
         "5.84125197298755e-05",
         "7.64e-06"
        ],
        [
         "46",
         "YBR110W",
         "4.17515951741338e-05",
         "1.87e-05"
        ],
        [
         "47",
         "YBR115C",
         "0.00189974037512097",
         "0.005221"
        ],
        [
         "48",
         "YBR121C",
         "0.000804453867516125",
         "0.000799"
        ],
        [
         "49",
         "YBR126C",
         "0.00097961771676235",
         "0.000572"
        ]
       ],
       "shape": {
        "columns": 3,
        "rows": 592
       }
      },
      "text/html": [
       "<div>\n",
       "<style scoped>\n",
       "    .dataframe tbody tr th:only-of-type {\n",
       "        vertical-align: middle;\n",
       "    }\n",
       "\n",
       "    .dataframe tbody tr th {\n",
       "        vertical-align: top;\n",
       "    }\n",
       "\n",
       "    .dataframe thead th {\n",
       "        text-align: right;\n",
       "    }\n",
       "</style>\n",
       "<table border=\"1\" class=\"dataframe\">\n",
       "  <thead>\n",
       "    <tr style=\"text-align: right;\">\n",
       "      <th></th>\n",
       "      <th>SC name</th>\n",
       "      <th>SC data.1</th>\n",
       "      <th>B_frac.1</th>\n",
       "    </tr>\n",
       "  </thead>\n",
       "  <tbody>\n",
       "    <tr>\n",
       "      <th>0</th>\n",
       "      <td>Q0045</td>\n",
       "      <td>0.002798</td>\n",
       "      <td>0.000037</td>\n",
       "    </tr>\n",
       "    <tr>\n",
       "      <th>1</th>\n",
       "      <td>Q0080</td>\n",
       "      <td>0.000011</td>\n",
       "      <td>0.000002</td>\n",
       "    </tr>\n",
       "    <tr>\n",
       "      <th>2</th>\n",
       "      <td>Q0085</td>\n",
       "      <td>0.000199</td>\n",
       "      <td>0.000088</td>\n",
       "    </tr>\n",
       "    <tr>\n",
       "      <th>3</th>\n",
       "      <td>Q0105</td>\n",
       "      <td>0.016497</td>\n",
       "      <td>0.005359</td>\n",
       "    </tr>\n",
       "    <tr>\n",
       "      <th>4</th>\n",
       "      <td>Q0250</td>\n",
       "      <td>0.000473</td>\n",
       "      <td>0.000283</td>\n",
       "    </tr>\n",
       "    <tr>\n",
       "      <th>...</th>\n",
       "      <td>...</td>\n",
       "      <td>...</td>\n",
       "      <td>...</td>\n",
       "    </tr>\n",
       "    <tr>\n",
       "      <th>587</th>\n",
       "      <td>YPL023C</td>\n",
       "      <td>0.000152</td>\n",
       "      <td>0.000389</td>\n",
       "    </tr>\n",
       "    <tr>\n",
       "      <th>588</th>\n",
       "      <td>YPL028W</td>\n",
       "      <td>0.000148</td>\n",
       "      <td>0.000593</td>\n",
       "    </tr>\n",
       "    <tr>\n",
       "      <th>589</th>\n",
       "      <td>YPL036W</td>\n",
       "      <td>0.000032</td>\n",
       "      <td>0.000183</td>\n",
       "    </tr>\n",
       "    <tr>\n",
       "      <th>590</th>\n",
       "      <td>YPL040C</td>\n",
       "      <td>0.000007</td>\n",
       "      <td>0.000025</td>\n",
       "    </tr>\n",
       "    <tr>\n",
       "      <th>591</th>\n",
       "      <td>YPL057C</td>\n",
       "      <td>0.000046</td>\n",
       "      <td>0.000003</td>\n",
       "    </tr>\n",
       "  </tbody>\n",
       "</table>\n",
       "<p>592 rows × 3 columns</p>\n",
       "</div>"
      ],
      "text/plain": [
       "     SC name  SC data.1  B_frac.1\n",
       "0      Q0045   0.002798  0.000037\n",
       "1      Q0080   0.000011  0.000002\n",
       "2      Q0085   0.000199  0.000088\n",
       "3      Q0105   0.016497  0.005359\n",
       "4      Q0250   0.000473  0.000283\n",
       "..       ...        ...       ...\n",
       "587  YPL023C   0.000152  0.000389\n",
       "588  YPL028W   0.000148  0.000593\n",
       "589  YPL036W   0.000032  0.000183\n",
       "590  YPL040C   0.000007  0.000025\n",
       "591  YPL057C   0.000046  0.000003\n",
       "\n",
       "[592 rows x 3 columns]"
      ]
     },
     "execution_count": 3,
     "metadata": {},
     "output_type": "execute_result"
    }
   ],
   "source": [
    "df_prot = pd.read_excel('/Users/ejm6426/Library/CloudStorage/OneDrive-ThePennsylvaniaStateUniversity/Labs/Maranas Lab/rtRBA/SCvsRT.xlsx',\n",
    "\t\t\t\t\t\tsheet_name='comparing-proteins',usecols=[0,8,9])\n",
    "# remove empty rows\n",
    "df_prot = df_prot.dropna()\n",
    "# convert from scientific notation to float (last 2 columns)\n",
    "# df_prot.iloc[:,1:] = df_prot[:,1:].apply(pd.to_numeric, errors='coerce')\n",
    "# df_prot.iloc[:,1:] = df_prot.iloc[:,1:].applymap(lambda x: '%.2f' % x)\n",
    "# df_prot = df_prot.apply(pd.to_numeric, errors='coerce')\n",
    "\n",
    "df_prot"
   ]
  },
  {
   "cell_type": "code",
   "execution_count": 4,
   "metadata": {},
   "outputs": [],
   "source": [
    "model1 = cobra.io.load_json_model('../../build_model/input/iRhtoC.json')\n",
    "model2 = cobra.io.load_json_model('../../build_model/input/precursors/GSM_iSace1144.json')"
   ]
  },
  {
   "cell_type": "code",
   "execution_count": 5,
   "metadata": {},
   "outputs": [
    {
     "name": "stdout",
     "output_type": "stream",
     "text": [
      "Reaction AKGCITta_m: akg_c + cit_m <=> akg_m + cit_c differs between models\n",
      "Model 1: akg_c + cit_m <=> akg_m + cit_c\n",
      "Model 2: akg_c + cit_m --> akg_m + cit_c\n",
      "Reaction FADH2t_c_m: fadh2_c --> fadh2_m differs between models\n",
      "Model 1: fadh2_c --> fadh2_m\n",
      "Model 2: fadh2_m --> fadh2_c\n",
      "Reaction Ktps_e: h_e + k_e <=> h_c + k_c differs between models\n",
      "Model 1: h_e + k_e <=> h_c + k_c\n",
      "Model 2: h_e + k_e --> h_c + k_c\n",
      "Starch and sucrose metabolism\n",
      "Cell wall biosynthesis\n",
      "Transport\n",
      "Lysine metabolism\n",
      "Alanine, aspartate and glutamate metabolism\n",
      "Terpenoid backbone biosynthesis\n",
      "Amino sugar and nucleotide sugar metabolism\n",
      "Arginine and proline metabolism\n",
      "Valine, leucine and isoleucine metabolism\n",
      "Acetyl-CoA synthesis\n",
      "Pyruvate metabolism\n",
      "Citric acid cycle\n",
      "Purine metabolism\n",
      "Glycine, serine and threonine metabolism\n",
      "Cysteine and methionine metabolism\n",
      "Phenylalanine, tyrosine and tryptophan metabolism\n",
      "Pyrimidine metabolism\n",
      "Oxidative phosphorylation\n",
      "Unassigned\n",
      "Histidine metabolism\n",
      "Sulfur metabolism\n",
      "Ergosterol biosynthesis\n",
      "Pseudoreaction\n",
      "Folate metabolism\n",
      "N-Glycan biosynthesis\n",
      "Glycolysis / Gluconeogenesis\n",
      "Exchange\n",
      "Pentose phosphate pathway\n",
      "Detoxification\n",
      "Tryptophan metabolism\n",
      "Glyoxylate metabolism\n",
      "Glycerophospholipid metabolism\n",
      "Alternative carbon metabolism\n",
      "Pentose and glucuronate interconversions\n",
      "Methylglyoxal metabolism\n",
      "Nitrogen metabolism\n",
      "Inositol phosphate metabolism\n",
      "Fructose and mannose metabolism\n",
      "Correlations:\n",
      "Subsystem\tCorrelation\tNumber of points\n",
      "Terpenoid backbone biosynthesis\t1.0\tn=9\n",
      "Histidine metabolism\t1.0\tn=10\n",
      "Cell wall biosynthesis\t0.9999999999999998\tn=2\n",
      "Unassigned\t0.9999999999999996\tn=2\n",
      "Valine, leucine and isoleucine metabolism\t0.9999999999994349\tn=12\n",
      "Pyrimidine metabolism\t0.9893408125792964\tn=14\n",
      "Glycine, serine and threonine metabolism\t0.9856007961751044\tn=19\n",
      "Cysteine and methionine metabolism\t0.9781639345725535\tn=13\n",
      "Glyoxylate metabolism\t0.9765906880326316\tn=5\n",
      "Pentose phosphate pathway\t0.9665631604622327\tn=10\n",
      "Arginine and proline metabolism\t0.9510458572555662\tn=22\n",
      "Starch and sucrose metabolism\t0.9087060773982382\tn=4\n",
      "Purine metabolism\t0.9009411178328113\tn=31\n",
      "Glycolysis / Gluconeogenesis\t0.6603042204880762\tn=12\n",
      "Folate metabolism\t0.6425050726829963\tn=9\n",
      "Phenylalanine, tyrosine and tryptophan metabolism\t0.6209524761196232\tn=15\n",
      "Methylglyoxal metabolism\t0.5000000000000001\tn=6\n",
      "Oxidative phosphorylation\t0.442332193048851\tn=9\n",
      "Pyruvate metabolism\t0.36192162851633525\tn=7\n",
      "Alanine, aspartate and glutamate metabolism\t0.264627142651402\tn=9\n",
      "Exchange\t0.19114361974629315\tn=17\n",
      "Transport\t0.18913598158778755\tn=56\n",
      "Acetyl-CoA synthesis\t0.006117009091251979\tn=4\n",
      "Citric acid cycle\t0.0016082379928071735\tn=12\n",
      "Subsystems with R^2 > 0.36: 19\n",
      "Fraction of points in these subsystems: 0.5943661971830986 \n",
      "\n",
      "Number of cases where sign differs: 0\n",
      "Number of cases where sign differs, excluding zero values: 0\n"
     ]
    },
    {
     "name": "stderr",
     "output_type": "stream",
     "text": [
      "/Applications/anaconda3/envs/rba/lib/python3.9/site-packages/numpy/lib/function_base.py:2897: RuntimeWarning: invalid value encountered in divide\n",
      "  c /= stddev[:, None]\n",
      "/Applications/anaconda3/envs/rba/lib/python3.9/site-packages/numpy/lib/function_base.py:2898: RuntimeWarning: invalid value encountered in divide\n",
      "  c /= stddev[None, :]\n",
      "/Applications/anaconda3/envs/rba/lib/python3.9/site-packages/numpy/lib/function_base.py:2889: RuntimeWarning: Degrees of freedom <= 0 for slice\n",
      "  c = cov(x, y, rowvar, dtype=dtype)\n",
      "/Applications/anaconda3/envs/rba/lib/python3.9/site-packages/numpy/lib/function_base.py:2748: RuntimeWarning: divide by zero encountered in divide\n",
      "  c *= np.true_divide(1, fact)\n",
      "/Applications/anaconda3/envs/rba/lib/python3.9/site-packages/numpy/lib/function_base.py:2748: RuntimeWarning: invalid value encountered in multiply\n",
      "  c *= np.true_divide(1, fact)\n"
     ]
    },
    {
     "data": {
      "application/vnd.microsoft.datawrangler.viewer.v0+json": {
       "columns": [
        {
         "name": "index",
         "rawType": "int64",
         "type": "integer"
        },
        {
         "name": "rxn",
         "rawType": "object",
         "type": "string"
        },
        {
         "name": "subsystem",
         "rawType": "object",
         "type": "string"
        },
        {
         "name": "RT / glc",
         "rawType": "float64",
         "type": "float"
        },
        {
         "name": "SC / glc",
         "rawType": "float64",
         "type": "float"
        }
       ],
       "ref": "06a295fb-162c-4f79-81a5-b1dbb3c6cdf7",
       "rows": [
        [
         "3",
         "13GS_c",
         "Starch and sucrose metabolism",
         "0.04963367558780228",
         "0.008418812984382023"
        ],
        [
         "6",
         "16GS_c",
         "Cell wall biosynthesis",
         "0.013061478311366118",
         "0.0022154800737409393"
        ],
        [
         "18",
         "2OBUTt_c_m",
         "Transport",
         "0.0004216935221761777",
         "9.317650699537596e-05"
        ],
        [
         "21",
         "2OXOADPt_c_m",
         "Transport",
         "0.019790448225238604",
         "0.0043726454067801205"
        ],
        [
         "118",
         "AASADy_c",
         "Lysine metabolism",
         "0.019790448225238604",
         "0.0043726454067801205"
        ],
        [
         "119",
         "AATA_c",
         "Lysine metabolism",
         "0.019790448225238604",
         "0.0043726454067801205"
        ],
        [
         "120",
         "ABTA_c",
         "Alanine, aspartate and glutamate metabolism",
         "0.0",
         "0.003963520963999851"
        ],
        [
         "170",
         "ACACT40ir_c",
         "Terpenoid backbone biosynthesis",
         "0.023274812759854133",
         "0.002817152647780485"
        ],
        [
         "177",
         "ACALDt_c_m",
         "Transport",
         "0.0",
         "7.2220642295365566e-09"
        ],
        [
         "185",
         "ACGAM6PS_c",
         "Amino sugar and nucleotide sugar metabolism",
         "0.001173433281103724",
         "0.00019904670694253902"
        ],
        [
         "188",
         "ACGAMPM_c",
         "Amino sugar and nucleotide sugar metabolism",
         "0.001173433281103724",
         "0.00019904670694253902"
        ],
        [
         "189",
         "ACGK_m",
         "Arginine and proline metabolism",
         "0.10694421653893678",
         "0.003595805982781375"
        ],
        [
         "193",
         "ACHBS_m",
         "Valine, leucine and isoleucine metabolism",
         "0.017742087892535847",
         "0.0039200637158083385"
        ],
        [
         "197",
         "ACITL_c",
         "Acetyl-CoA synthesis",
         "0.19811356148231085",
         "0.0"
        ],
        [
         "198",
         "ACKr_c",
         "Pyruvate metabolism",
         "1.712811113831438e-08",
         "0.0"
        ],
        [
         "199",
         "ACLS_m",
         "Valine, leucine and isoleucine metabolism",
         "0.046207778248939776",
         "0.010209484997892187"
        ],
        [
         "268",
         "ACONTa_m",
         "Citric acid cycle",
         "0.338329740807838",
         "0.024787612397465672"
        ],
        [
         "269",
         "ACONTb_m",
         "Citric acid cycle",
         "0.338329740807838",
         "0.024787612397465672"
        ],
        [
         "270",
         "ACOTAi_m",
         "Arginine and proline metabolism",
         "0.10694421653893678",
         "0.003595805982781375"
        ],
        [
         "276",
         "ACS_c",
         "Acetyl-CoA synthesis",
         "0.0038556218727077416",
         "0.029875028771776335"
        ],
        [
         "279",
         "ACt_c_m",
         "Transport",
         "0.0",
         "3.6110321147682783e-09"
        ],
        [
         "287",
         "ADK1_c",
         "Purine metabolism",
         "0.22842521538371333",
         "0.1262783759082246"
        ],
        [
         "292",
         "ADNK1_c",
         "Purine metabolism",
         "0.010139935657085517",
         "0.0015572331044400596"
        ],
        [
         "294",
         "ADPATPt_c_m",
         "Transport",
         "14.505627470675117",
         "0.7108763445185127"
        ],
        [
         "305",
         "ADSK_c",
         "Purine metabolism",
         "0.0038556390008188785",
         "0.0008519035267554192"
        ],
        [
         "306",
         "ADSL1r_c",
         "Purine metabolism",
         "0.011204906465985525",
         "0.002702443458078958"
        ],
        [
         "307",
         "ADSL2i_c",
         "Purine metabolism",
         "0.013650598384232542",
         "0.002817731559248415"
        ],
        [
         "308",
         "ADSS_c",
         "Purine metabolism",
         "0.011204906465985525",
         "0.002702443458078958"
        ],
        [
         "319",
         "AGPRi_m",
         "Arginine and proline metabolism",
         "0.10694421653893678",
         "0.003595805982781375"
        ],
        [
         "320",
         "AGTi_c",
         "Glycine, serine and threonine metabolism",
         "0.0",
         "3.6110321147682783e-09"
        ],
        [
         "321",
         "AHCi_c",
         "Cysteine and methionine metabolism",
         "0.010139935657085517",
         "0.0015572331044400596"
        ],
        [
         "327",
         "AHSERL2_c",
         "Cysteine and methionine metabolism",
         "0.0038556390008188785",
         "0.0008518999157233045"
        ],
        [
         "328",
         "AICART_c",
         "Purine metabolism",
         "0.01946425553607749",
         "0.004102237271384092"
        ],
        [
         "329",
         "AIRC1_c",
         "Purine metabolism",
         "0.013650598384232542",
         "0.002817731559248415"
        ],
        [
         "330",
         "AKGCITta_m",
         "Transport",
         "0.0",
         "3.6110321147682783e-09"
        ],
        [
         "331",
         "AKGDH_m",
         "Citric acid cycle",
         "0.24757094101245591",
         "0.0007711698215961697"
        ],
        [
         "332",
         "AKGMALta_m",
         "Transport",
         "0.5670525393933853",
         "0.01772517423249019"
        ],
        [
         "338",
         "ALAt_c_m",
         "Transport",
         "0.0805634191481905",
         "0.0007709749134759988"
        ],
        [
         "339",
         "ALATA_L_m",
         "Alanine, aspartate and glutamate metabolism",
         "0.0805634191481905",
         "0.0007709749134759988"
        ],
        [
         "358",
         "ALCD2i2_c",
         "Pyruvate metabolism",
         "0.0",
         "1.6572966582226893"
        ],
        [
         "359",
         "ALCD2i2_m",
         "Pyruvate metabolism",
         "0.0",
         "3.6110321147682783e-09"
        ],
        [
         "365",
         "ALDD2y_c",
         "Pyruvate metabolism",
         "0.0",
         "0.029023118022956686"
        ],
        [
         "369",
         "ALPHNH_c",
         "Arginine and proline metabolism",
         "0.0",
         "3.1235427792745608e-06"
        ],
        [
         "382",
         "ANPRT_c",
         "Phenylalanine, tyrosine and tryptophan metabolism",
         "0.11195094677362048",
         "0.006164020986813107"
        ],
        [
         "383",
         "ANS_c",
         "Phenylalanine, tyrosine and tryptophan metabolism",
         "0.0019579456452622932",
         "0.0004326021853802591"
        ],
        [
         "397",
         "ARGN_c",
         "Arginine and proline metabolism",
         "1.4363345673642822e-08",
         "3.1235427792745608e-06"
        ],
        [
         "398",
         "ARGSL_c",
         "Arginine and proline metabolism",
         "0.011627227434580457",
         "0.002565887881492082"
        ],
        [
         "399",
         "ARGSS_c",
         "Arginine and proline metabolism",
         "0.011627227434580457",
         "0.002565887881492082"
        ],
        [
         "407",
         "ASAD_c",
         "Glycine, serine and threonine metabolism",
         "0.03795421212467968",
         "0.00838588924061595"
        ],
        [
         "410",
         "ASNS1_c",
         "Alanine, aspartate and glutamate metabolism",
         "0.013976791073393639",
         "0.003088143305676557"
        ]
       ],
       "shape": {
        "columns": 4,
        "rows": 355
       }
      },
      "text/html": [
       "<div>\n",
       "<style scoped>\n",
       "    .dataframe tbody tr th:only-of-type {\n",
       "        vertical-align: middle;\n",
       "    }\n",
       "\n",
       "    .dataframe tbody tr th {\n",
       "        vertical-align: top;\n",
       "    }\n",
       "\n",
       "    .dataframe thead th {\n",
       "        text-align: right;\n",
       "    }\n",
       "</style>\n",
       "<table border=\"1\" class=\"dataframe\">\n",
       "  <thead>\n",
       "    <tr style=\"text-align: right;\">\n",
       "      <th></th>\n",
       "      <th>rxn</th>\n",
       "      <th>subsystem</th>\n",
       "      <th>RT / glc</th>\n",
       "      <th>SC / glc</th>\n",
       "    </tr>\n",
       "  </thead>\n",
       "  <tbody>\n",
       "    <tr>\n",
       "      <th>3</th>\n",
       "      <td>13GS_c</td>\n",
       "      <td>Starch and sucrose metabolism</td>\n",
       "      <td>0.049634</td>\n",
       "      <td>0.008419</td>\n",
       "    </tr>\n",
       "    <tr>\n",
       "      <th>6</th>\n",
       "      <td>16GS_c</td>\n",
       "      <td>Cell wall biosynthesis</td>\n",
       "      <td>0.013061</td>\n",
       "      <td>0.002215</td>\n",
       "    </tr>\n",
       "    <tr>\n",
       "      <th>18</th>\n",
       "      <td>2OBUTt_c_m</td>\n",
       "      <td>Transport</td>\n",
       "      <td>0.000422</td>\n",
       "      <td>0.000093</td>\n",
       "    </tr>\n",
       "    <tr>\n",
       "      <th>21</th>\n",
       "      <td>2OXOADPt_c_m</td>\n",
       "      <td>Transport</td>\n",
       "      <td>0.019790</td>\n",
       "      <td>0.004373</td>\n",
       "    </tr>\n",
       "    <tr>\n",
       "      <th>118</th>\n",
       "      <td>AASADy_c</td>\n",
       "      <td>Lysine metabolism</td>\n",
       "      <td>0.019790</td>\n",
       "      <td>0.004373</td>\n",
       "    </tr>\n",
       "    <tr>\n",
       "      <th>...</th>\n",
       "      <td>...</td>\n",
       "      <td>...</td>\n",
       "      <td>...</td>\n",
       "      <td>...</td>\n",
       "    </tr>\n",
       "    <tr>\n",
       "      <th>2265</th>\n",
       "      <td>UREASE_c</td>\n",
       "      <td>Arginine and proline metabolism</td>\n",
       "      <td>0.000000</td>\n",
       "      <td>0.000003</td>\n",
       "    </tr>\n",
       "    <tr>\n",
       "      <th>2276</th>\n",
       "      <td>VALt_c_m</td>\n",
       "      <td>Transport</td>\n",
       "      <td>0.046208</td>\n",
       "      <td>0.010209</td>\n",
       "    </tr>\n",
       "    <tr>\n",
       "      <th>2277</th>\n",
       "      <td>VALTA_c</td>\n",
       "      <td>Valine, leucine and isoleucine metabolism</td>\n",
       "      <td>0.024128</td>\n",
       "      <td>0.005331</td>\n",
       "    </tr>\n",
       "    <tr>\n",
       "      <th>2278</th>\n",
       "      <td>VALTA_m</td>\n",
       "      <td>Valine, leucine and isoleucine metabolism</td>\n",
       "      <td>0.046208</td>\n",
       "      <td>0.010209</td>\n",
       "    </tr>\n",
       "    <tr>\n",
       "      <th>2300</th>\n",
       "      <td>ZN2t_c_e</td>\n",
       "      <td>Transport</td>\n",
       "      <td>0.000114</td>\n",
       "      <td>0.000022</td>\n",
       "    </tr>\n",
       "  </tbody>\n",
       "</table>\n",
       "<p>355 rows × 4 columns</p>\n",
       "</div>"
      ],
      "text/plain": [
       "               rxn                                  subsystem  RT / glc  \\\n",
       "3           13GS_c              Starch and sucrose metabolism  0.049634   \n",
       "6           16GS_c                     Cell wall biosynthesis  0.013061   \n",
       "18      2OBUTt_c_m                                  Transport  0.000422   \n",
       "21    2OXOADPt_c_m                                  Transport  0.019790   \n",
       "118       AASADy_c                          Lysine metabolism  0.019790   \n",
       "...            ...                                        ...       ...   \n",
       "2265      UREASE_c            Arginine and proline metabolism  0.000000   \n",
       "2276      VALt_c_m                                  Transport  0.046208   \n",
       "2277       VALTA_c  Valine, leucine and isoleucine metabolism  0.024128   \n",
       "2278       VALTA_m  Valine, leucine and isoleucine metabolism  0.046208   \n",
       "2300      ZN2t_c_e                                  Transport  0.000114   \n",
       "\n",
       "      SC / glc  \n",
       "3     0.008419  \n",
       "6     0.002215  \n",
       "18    0.000093  \n",
       "21    0.004373  \n",
       "118   0.004373  \n",
       "...        ...  \n",
       "2265  0.000003  \n",
       "2276  0.010209  \n",
       "2277  0.005331  \n",
       "2278  0.010209  \n",
       "2300  0.000022  \n",
       "\n",
       "[355 rows x 4 columns]"
      ]
     },
     "execution_count": 5,
     "metadata": {},
     "output_type": "execute_result"
    }
   ],
   "source": [
    "df_flux = pd.read_excel('/Users/ejm6426/Documents/rtRBA-main/build_model/input/precursors/RekenaEtAl2023/RxnMatches.xlsx',\n",
    "\t\t\t\t\t\tsheet_name='MFA',skiprows=2)\n",
    "# remove empty rows\n",
    "# count cases where sign differs\n",
    "# diff_sign = {'total': set(), 'excluding_zero': set(), 'sub'}\n",
    "diff_sign = 0\n",
    "diff_sign_excluding_zero = 0\n",
    "points_with_diff_sign = {}\n",
    "\n",
    "model1col = 'SC / glc'\n",
    "# model1col = 'log(SC)'\n",
    "# model1col = 'SC'\n",
    "model2col = 'RT / glc'\n",
    "# model2col = 'log(RT)'\n",
    "# model2col = 'RT'\n",
    "units = '($mmol\\ gDW^{-1}h^{-1}$)' \n",
    "if model2col == 'RT / glc':\n",
    "\tunits = '/ glucose uptake ($mmol/mmol\\ glc$)'\n",
    "# remove all columns that aren't the index or aren't named model1col, model2col\n",
    "df_flux = df_flux[['rxn', 'subsystem', model2col, model1col]]\n",
    "\n",
    "# make extra dataframe without rows where model1col and model2col are both zero or non-numbers\n",
    "df_flux = df_flux[(df_flux[model1col] != 0) | (df_flux[model2col] != 0)].dropna(subset=[model1col, model2col])\n",
    "# df_flux_no_zeros = df_flux[(df_flux[model1col] != 0) | (df_flux[model2col] != 0)].dropna(subset=[model1col, model2col])\n",
    "df_flux_no_zeros = df_flux\n",
    "\n",
    "# find rxns with sign differences that aren't caused by equations being reversed\n",
    "for index, row in df_flux.iterrows():\n",
    "\tif np.sign(row[model1col]) != np.sign(row[model2col]):\n",
    "\t\t# compare reaction equations to see if they are the same\n",
    "\t\t# get reaction IDs\n",
    "\t\trxn = row['rxn']\n",
    "\t\tif rxn in model1.reactions:\n",
    "\t\t\tif rxn in model2.reactions:\n",
    "\t\t\t\trxn1 = model1.reactions.get_by_id(rxn)\n",
    "\t\t\t\trxn2 = model2.reactions.get_by_id(rxn)\n",
    "\t\t\t\tif rxn1.reaction != rxn2.reaction:\n",
    "\t\t\t\t\tprint('Reaction', rxn1, 'differs between models')\n",
    "\t\t\t\t\t# show rxn equations\n",
    "\t\t\t\t\tprint('Model 1:', rxn1.reaction)\n",
    "\t\t\t\t\tprint('Model 2:', rxn2.reaction)\n",
    "\t\t# \telse:\n",
    "\t\t# \t\tprint('Reaction', rxn1, 'not found in', model2.id)\n",
    "\t\t# else:\n",
    "\t\t# \tprint('Reaction', rxn1, 'not found in', model1.id)\n",
    "# compare correlations in fluxes across subsystems\n",
    "# get unique subsystems\n",
    "subsystems = df_flux_no_zeros['subsystem'].unique()\n",
    "# get correlation for each subsystem\n",
    "correlations = {}\n",
    "for subsystem in subsystems:\n",
    "\tprint(subsystem)\n",
    "\tdf_subsystem = df_flux_no_zeros[df_flux_no_zeros['subsystem'] == subsystem]\n",
    "\t# compare model1col and model2col\n",
    "\tdf_subsystem = df_subsystem.apply(pd.to_numeric, errors='coerce')\n",
    "\t# find R^2 value\n",
    "\tcorrelations[subsystem] = np.corrcoef(df_subsystem[model1col], df_subsystem[model2col])[0,1]**2\n",
    "\t# find number of points in each subsystem\n",
    "\tcorrelations[subsystem] = (correlations[subsystem], 'n='+str(len(df_subsystem)))\n",
    "\t# df_subsystem = df_subsystem.apply(pd.to_numeric, errors='coerce')\n",
    "\t# correlations[subsystem] = df_subsystem.corr().iloc[0,1]\n",
    "# remove NaN values\n",
    "correlations = {key: value for key, value in correlations.items() if not np.isnan(value[0])}\n",
    "print('Correlations:')\n",
    "# sort from most to least correlated\n",
    "correlations = dict(sorted(correlations.items(), key=lambda item: item[1], reverse=True))\n",
    "# make TSV file with subsystem, correlation, and number of points\n",
    "with open('SC_vs_RT_flux_correlations.tsv', 'w') as f:\n",
    "\theaders='Subsystem\\tCorrelation\\tNumber of points\\n'\n",
    "\tf.write(headers)\n",
    "\tprint(headers.replace('\\n', ''))\n",
    "\tfor key, value in correlations.items():\n",
    "\t\tline=key+'\\t'+str(value[0])+'\\t'+value[1]+'\\n'\n",
    "\t\tf.write(line)\n",
    "\t\tprint(line.replace('\\n', ''))\n",
    "# find fraction of points in subsystems with abs(correlation) > 0.6\n",
    "correlations = {key: value for key, value in correlations.items() if abs(value[0]) > 0.36}\n",
    "print('Subsystems with R^2 > 0.36:', len(correlations))\n",
    "# correlations = {key: value for key, value in correlations.items() if value[0] > 0.8}\n",
    "# print('Subsystems with R^2 > 0.8:', len(correlations))\n",
    "# % of points in these subsystems\n",
    "total_points = len(df_flux_no_zeros)\n",
    "points_in_subsystems = 0\n",
    "for key in correlations.keys():\n",
    "\tpoints_in_subsystems += len(df_flux_no_zeros[df_flux_no_zeros['subsystem'] == key])\n",
    "print('Fraction of points in these subsystems:', points_in_subsystems/total_points,'\\n')\n",
    "\n",
    "print('Number of cases where sign differs:', diff_sign)\n",
    "print('Number of cases where sign differs, excluding zero values:', diff_sign_excluding_zero)\n",
    "if diff_sign_excluding_zero > 0:\n",
    "\tprint('Points with different signs, excluding zero values:')\n",
    "\tfor key, value in points_with_diff_sign.items():\n",
    "\t\tprint(key, value)\n",
    "\t# find most common subsystems for these points\n",
    "\tsubsystems = {}\n",
    "\tfor key in points_with_diff_sign.keys():\n",
    "\t\tsubsystem = df_flux[df_flux['rxn'] == key]['subsystem'].values[0]\n",
    "\t\tif subsystem in subsystems:\n",
    "\t\t\tsubsystems[subsystem] += 1\n",
    "\t\telse:\n",
    "\t\t\tsubsystems[subsystem] = 1\n",
    "\tprint('\\nSubsystems:')\n",
    "\t# sort from most to least common\n",
    "\tsubsystems = dict(sorted(subsystems.items(), key=lambda item: item[1], reverse=True))\n",
    "\tfor key, value in subsystems.items():\n",
    "\t\tprint(str(key)+': '+str(value))\n",
    "# use absolute values\n",
    "df_flux[model1col] = df_flux[model1col].abs()\n",
    "df_flux[model2col] = df_flux[model2col].abs()\n",
    "df_flux"
   ]
  },
  {
   "cell_type": "code",
   "execution_count": 6,
   "metadata": {},
   "outputs": [
    {
     "data": {
      "application/vnd.microsoft.datawrangler.viewer.v0+json": {
       "columns": [
        {
         "name": "index",
         "rawType": "int64",
         "type": "integer"
        },
        {
         "name": "rxn",
         "rawType": "object",
         "type": "string"
        },
        {
         "name": "subsystem",
         "rawType": "object",
         "type": "string"
        },
        {
         "name": "RT / glc",
         "rawType": "float64",
         "type": "float"
        },
        {
         "name": "SC / glc",
         "rawType": "float64",
         "type": "float"
        }
       ],
       "ref": "c6cec49e-50c5-4816-af47-9007c2d31a2e",
       "rows": [
        [
         "3",
         "13GS_c",
         "Starch and sucrose metabolism",
         "0.04963367558780228",
         "0.008418812984382023"
        ],
        [
         "6",
         "16GS_c",
         "Cell wall biosynthesis",
         "0.013061478311366118",
         "0.0022154800737409393"
        ],
        [
         "18",
         "2OBUTt_c_m",
         "Transport",
         "0.0004216935221761777",
         "9.317650699537596e-05"
        ],
        [
         "21",
         "2OXOADPt_c_m",
         "Transport",
         "0.019790448225238604",
         "0.0043726454067801205"
        ],
        [
         "118",
         "AASADy_c",
         "Lysine metabolism",
         "0.019790448225238604",
         "0.0043726454067801205"
        ],
        [
         "119",
         "AATA_c",
         "Lysine metabolism",
         "0.019790448225238604",
         "0.0043726454067801205"
        ],
        [
         "120",
         "ABTA_c",
         "Alanine, aspartate and glutamate metabolism",
         "0.0",
         "0.003963520963999851"
        ],
        [
         "170",
         "ACACT40ir_c",
         "Terpenoid backbone biosynthesis",
         "0.023274812759854133",
         "0.002817152647780485"
        ],
        [
         "177",
         "ACALDt_c_m",
         "Transport",
         "0.0",
         "7.2220642295365566e-09"
        ],
        [
         "185",
         "ACGAM6PS_c",
         "Amino sugar and nucleotide sugar metabolism",
         "0.001173433281103724",
         "0.00019904670694253902"
        ],
        [
         "188",
         "ACGAMPM_c",
         "Amino sugar and nucleotide sugar metabolism",
         "0.001173433281103724",
         "0.00019904670694253902"
        ],
        [
         "189",
         "ACGK_m",
         "Arginine and proline metabolism",
         "0.10694421653893678",
         "0.003595805982781375"
        ],
        [
         "193",
         "ACHBS_m",
         "Valine, leucine and isoleucine metabolism",
         "0.017742087892535847",
         "0.0039200637158083385"
        ],
        [
         "197",
         "ACITL_c",
         "Acetyl-CoA synthesis",
         "0.19811356148231085",
         "0.0"
        ],
        [
         "198",
         "ACKr_c",
         "Pyruvate metabolism",
         "1.712811113831438e-08",
         "0.0"
        ],
        [
         "199",
         "ACLS_m",
         "Valine, leucine and isoleucine metabolism",
         "0.046207778248939776",
         "0.010209484997892187"
        ],
        [
         "268",
         "ACONTa_m",
         "Citric acid cycle",
         "0.338329740807838",
         "0.024787612397465672"
        ],
        [
         "269",
         "ACONTb_m",
         "Citric acid cycle",
         "0.338329740807838",
         "0.024787612397465672"
        ],
        [
         "270",
         "ACOTAi_m",
         "Arginine and proline metabolism",
         "0.10694421653893678",
         "0.003595805982781375"
        ],
        [
         "276",
         "ACS_c",
         "Acetyl-CoA synthesis",
         "0.0038556218727077416",
         "0.029875028771776335"
        ],
        [
         "279",
         "ACt_c_m",
         "Transport",
         "0.0",
         "3.6110321147682783e-09"
        ],
        [
         "287",
         "ADK1_c",
         "Purine metabolism",
         "0.22842521538371333",
         "0.1262783759082246"
        ],
        [
         "292",
         "ADNK1_c",
         "Purine metabolism",
         "0.010139935657085517",
         "0.0015572331044400596"
        ],
        [
         "294",
         "ADPATPt_c_m",
         "Transport",
         "14.505627470675117",
         "0.7108763445185127"
        ],
        [
         "305",
         "ADSK_c",
         "Purine metabolism",
         "0.0038556390008188785",
         "0.0008519035267554192"
        ],
        [
         "306",
         "ADSL1r_c",
         "Purine metabolism",
         "0.011204906465985525",
         "0.002702443458078958"
        ],
        [
         "307",
         "ADSL2i_c",
         "Purine metabolism",
         "0.013650598384232542",
         "0.002817731559248415"
        ],
        [
         "308",
         "ADSS_c",
         "Purine metabolism",
         "0.011204906465985525",
         "0.002702443458078958"
        ],
        [
         "319",
         "AGPRi_m",
         "Arginine and proline metabolism",
         "0.10694421653893678",
         "0.003595805982781375"
        ],
        [
         "320",
         "AGTi_c",
         "Glycine, serine and threonine metabolism",
         "0.0",
         "3.6110321147682783e-09"
        ],
        [
         "321",
         "AHCi_c",
         "Cysteine and methionine metabolism",
         "0.010139935657085517",
         "0.0015572331044400596"
        ],
        [
         "327",
         "AHSERL2_c",
         "Cysteine and methionine metabolism",
         "0.0038556390008188785",
         "0.0008518999157233045"
        ],
        [
         "328",
         "AICART_c",
         "Purine metabolism",
         "0.01946425553607749",
         "0.004102237271384092"
        ],
        [
         "329",
         "AIRC1_c",
         "Purine metabolism",
         "0.013650598384232542",
         "0.002817731559248415"
        ],
        [
         "330",
         "AKGCITta_m",
         "Transport",
         "0.0",
         "3.6110321147682783e-09"
        ],
        [
         "331",
         "AKGDH_m",
         "Citric acid cycle",
         "0.24757094101245591",
         "0.0007711698215961697"
        ],
        [
         "332",
         "AKGMALta_m",
         "Transport",
         "0.5670525393933853",
         "0.01772517423249019"
        ],
        [
         "338",
         "ALAt_c_m",
         "Transport",
         "0.0805634191481905",
         "0.0007709749134759988"
        ],
        [
         "339",
         "ALATA_L_m",
         "Alanine, aspartate and glutamate metabolism",
         "0.0805634191481905",
         "0.0007709749134759988"
        ],
        [
         "358",
         "ALCD2i2_c",
         "Pyruvate metabolism",
         "0.0",
         "1.6572966582226893"
        ],
        [
         "359",
         "ALCD2i2_m",
         "Pyruvate metabolism",
         "0.0",
         "3.6110321147682783e-09"
        ],
        [
         "365",
         "ALDD2y_c",
         "Pyruvate metabolism",
         "0.0",
         "0.029023118022956686"
        ],
        [
         "369",
         "ALPHNH_c",
         "Arginine and proline metabolism",
         "0.0",
         "3.1235427792745608e-06"
        ],
        [
         "382",
         "ANPRT_c",
         "Phenylalanine, tyrosine and tryptophan metabolism",
         "0.11195094677362048",
         "0.006164020986813107"
        ],
        [
         "383",
         "ANS_c",
         "Phenylalanine, tyrosine and tryptophan metabolism",
         "0.0019579456452622932",
         "0.0004326021853802591"
        ],
        [
         "397",
         "ARGN_c",
         "Arginine and proline metabolism",
         "1.4363345673642822e-08",
         "3.1235427792745608e-06"
        ],
        [
         "398",
         "ARGSL_c",
         "Arginine and proline metabolism",
         "0.011627227434580457",
         "0.002565887881492082"
        ],
        [
         "399",
         "ARGSS_c",
         "Arginine and proline metabolism",
         "0.011627227434580457",
         "0.002565887881492082"
        ],
        [
         "407",
         "ASAD_c",
         "Glycine, serine and threonine metabolism",
         "0.03795421212467968",
         "0.00838588924061595"
        ],
        [
         "410",
         "ASNS1_c",
         "Alanine, aspartate and glutamate metabolism",
         "0.013976791073393639",
         "0.003088143305676557"
        ]
       ],
       "shape": {
        "columns": 4,
        "rows": 355
       }
      },
      "text/html": [
       "<div>\n",
       "<style scoped>\n",
       "    .dataframe tbody tr th:only-of-type {\n",
       "        vertical-align: middle;\n",
       "    }\n",
       "\n",
       "    .dataframe tbody tr th {\n",
       "        vertical-align: top;\n",
       "    }\n",
       "\n",
       "    .dataframe thead th {\n",
       "        text-align: right;\n",
       "    }\n",
       "</style>\n",
       "<table border=\"1\" class=\"dataframe\">\n",
       "  <thead>\n",
       "    <tr style=\"text-align: right;\">\n",
       "      <th></th>\n",
       "      <th>rxn</th>\n",
       "      <th>subsystem</th>\n",
       "      <th>RT / glc</th>\n",
       "      <th>SC / glc</th>\n",
       "    </tr>\n",
       "  </thead>\n",
       "  <tbody>\n",
       "    <tr>\n",
       "      <th>3</th>\n",
       "      <td>13GS_c</td>\n",
       "      <td>Starch and sucrose metabolism</td>\n",
       "      <td>0.049634</td>\n",
       "      <td>0.008419</td>\n",
       "    </tr>\n",
       "    <tr>\n",
       "      <th>6</th>\n",
       "      <td>16GS_c</td>\n",
       "      <td>Cell wall biosynthesis</td>\n",
       "      <td>0.013061</td>\n",
       "      <td>0.002215</td>\n",
       "    </tr>\n",
       "    <tr>\n",
       "      <th>18</th>\n",
       "      <td>2OBUTt_c_m</td>\n",
       "      <td>Transport</td>\n",
       "      <td>0.000422</td>\n",
       "      <td>0.000093</td>\n",
       "    </tr>\n",
       "    <tr>\n",
       "      <th>21</th>\n",
       "      <td>2OXOADPt_c_m</td>\n",
       "      <td>Transport</td>\n",
       "      <td>0.019790</td>\n",
       "      <td>0.004373</td>\n",
       "    </tr>\n",
       "    <tr>\n",
       "      <th>118</th>\n",
       "      <td>AASADy_c</td>\n",
       "      <td>Lysine metabolism</td>\n",
       "      <td>0.019790</td>\n",
       "      <td>0.004373</td>\n",
       "    </tr>\n",
       "    <tr>\n",
       "      <th>...</th>\n",
       "      <td>...</td>\n",
       "      <td>...</td>\n",
       "      <td>...</td>\n",
       "      <td>...</td>\n",
       "    </tr>\n",
       "    <tr>\n",
       "      <th>2265</th>\n",
       "      <td>UREASE_c</td>\n",
       "      <td>Arginine and proline metabolism</td>\n",
       "      <td>0.000000</td>\n",
       "      <td>0.000003</td>\n",
       "    </tr>\n",
       "    <tr>\n",
       "      <th>2276</th>\n",
       "      <td>VALt_c_m</td>\n",
       "      <td>Transport</td>\n",
       "      <td>0.046208</td>\n",
       "      <td>0.010209</td>\n",
       "    </tr>\n",
       "    <tr>\n",
       "      <th>2277</th>\n",
       "      <td>VALTA_c</td>\n",
       "      <td>Valine, leucine and isoleucine metabolism</td>\n",
       "      <td>0.024128</td>\n",
       "      <td>0.005331</td>\n",
       "    </tr>\n",
       "    <tr>\n",
       "      <th>2278</th>\n",
       "      <td>VALTA_m</td>\n",
       "      <td>Valine, leucine and isoleucine metabolism</td>\n",
       "      <td>0.046208</td>\n",
       "      <td>0.010209</td>\n",
       "    </tr>\n",
       "    <tr>\n",
       "      <th>2300</th>\n",
       "      <td>ZN2t_c_e</td>\n",
       "      <td>Transport</td>\n",
       "      <td>0.000114</td>\n",
       "      <td>0.000022</td>\n",
       "    </tr>\n",
       "  </tbody>\n",
       "</table>\n",
       "<p>355 rows × 4 columns</p>\n",
       "</div>"
      ],
      "text/plain": [
       "               rxn                                  subsystem  RT / glc  \\\n",
       "3           13GS_c              Starch and sucrose metabolism  0.049634   \n",
       "6           16GS_c                     Cell wall biosynthesis  0.013061   \n",
       "18      2OBUTt_c_m                                  Transport  0.000422   \n",
       "21    2OXOADPt_c_m                                  Transport  0.019790   \n",
       "118       AASADy_c                          Lysine metabolism  0.019790   \n",
       "...            ...                                        ...       ...   \n",
       "2265      UREASE_c            Arginine and proline metabolism  0.000000   \n",
       "2276      VALt_c_m                                  Transport  0.046208   \n",
       "2277       VALTA_c  Valine, leucine and isoleucine metabolism  0.024128   \n",
       "2278       VALTA_m  Valine, leucine and isoleucine metabolism  0.046208   \n",
       "2300      ZN2t_c_e                                  Transport  0.000114   \n",
       "\n",
       "      SC / glc  \n",
       "3     0.008419  \n",
       "6     0.002215  \n",
       "18    0.000093  \n",
       "21    0.004373  \n",
       "118   0.004373  \n",
       "...        ...  \n",
       "2265  0.000003  \n",
       "2276  0.010209  \n",
       "2277  0.005331  \n",
       "2278  0.010209  \n",
       "2300  0.000022  \n",
       "\n",
       "[355 rows x 4 columns]"
      ]
     },
     "execution_count": 6,
     "metadata": {},
     "output_type": "execute_result"
    }
   ],
   "source": [
    "df_flux"
   ]
  },
  {
   "cell_type": "code",
   "execution_count": 7,
   "metadata": {},
   "outputs": [],
   "source": [
    "# select data for plotting\n",
    "datasets = [{'title':'MFA-derived fluxes','id':df_flux[df_flux.columns[0]],'x':df_flux[df_flux.columns[-1]],'xlabel':'Flux in SC '+units,\n",
    "\t \t\t\t\t'y':df_flux[df_flux.columns[-2]],'ylabel':'Flux in RT '+units,\n",
    "\t\t\t\t\t'output_path':'../fluxes-for-kapps-SC-vs-RT.svg'},\n",
    "\t\t\t\t {'title':'Relative Protein Abundances','id':df_prot[df_prot.columns[0]],'x':df_prot[df_prot.columns[1]],'xlabel':'Abundance in SC (g protein/g all proteins)',\n",
    "\t  \t\t\t\t'y':df_prot[df_prot.columns[2]],'ylabel':'Abundance in RT (g protein/g all proteins)',\n",
    "\t\t\t\t\t'output_path':'../protein-abundances-SC-vs-RT.svg'},\n",
    "\t\t\t\t{'title':'$k_{app}$ Values','id':df_kapp[df_kapp.columns[1]],'x':df_kapp[df_kapp.columns[-1]],'xlabel':df_kapp.columns[-1],\n",
    "\t\t\t\t\t 'y':df_kapp[df_kapp.columns[-2]],'ylabel':df_kapp.columns[-2],\n",
    "\t\t\t\t \t'output_path':'../kapps-SC-vs-RT.svg'}\n",
    "\t\t\t]"
   ]
  },
  {
   "cell_type": "code",
   "execution_count": 8,
   "metadata": {},
   "outputs": [
    {
     "name": "stdout",
     "output_type": "stream",
     "text": [
      "Reactions in MFA but not in Escher map:\n",
      "ABTA_c\n",
      "ACKr_c\n",
      "ACOADS180_c\n",
      "ACOADS181_c\n",
      "ACOADS182_c\n",
      "ACS_c\n",
      "ADNK1_c\n",
      "ADSK_c\n",
      "AGPAT_c\n",
      "AGTi_c\n",
      "AHCi_c\n",
      "AKGCITta_m\n",
      "AKGDH_m\n",
      "ALAt_c_m\n",
      "ALDD2x_c\n",
      "ALDD2y_c\n",
      "ALPHNH_c\n",
      "ARGN_c\n",
      "ATPM_c\n",
      "BIOMASS\n",
      "BPNT_c\n",
      "C24STR_c\n",
      "CA2t_c_e\n",
      "CBL_c\n",
      "CDPDAGS_c\n",
      "CITICITta_m\n",
      "CO2t_c_e\n",
      "CO2t_c_m\n",
      "compACYLCOA_c\n",
      "CU2t_c_e\n",
      "CYSS_c\n",
      "CYTK1_c\n",
      "DGAT_c\n",
      "DOLPMMT_c\n",
      "ETFOXRq9_m\n",
      "EX_ca2_e\n",
      "EX_cu2_e\n",
      "EX_fe2_e\n",
      "EX_glc__D_e\n",
      "EX_h_e\n",
      "EX_h2o_e\n",
      "EX_k_e\n",
      "EX_mg2_e\n",
      "EX_mn2_e\n",
      "EX_pi_e\n",
      "EX_so4_e\n",
      "EX_zn2_e\n",
      "FADH2t_c_m\n",
      "FADt_c_m\n",
      "FDH_c\n",
      "FE2t_c_e\n",
      "FORt_c_m\n",
      "FRD_c\n",
      "FTHFL_c\n",
      "FTHFL_m\n",
      "FUM_c\n",
      "G3PAT_c\n",
      "G5SADr_m\n",
      "G5SDy_c\n",
      "GHMT2r_m\n",
      "GK2_c\n",
      "GLCt_c_e\n",
      "GLU5K_c\n",
      "GLUDC_c\n",
      "GLUDxi_c\n",
      "GLUSx_c\n",
      "GLYCL_m\n",
      "GLYGS_c\n",
      "GLYOX_c\n",
      "GLYt_c_m\n",
      "H2Ot_c_e\n",
      "H2Ot_c_m\n",
      "HCO3E_c\n",
      "HCYSMT_c\n",
      "HSDy_c\n",
      "Ht_c\n",
      "Ht_c_m\n",
      "ICL_1_c\n",
      "ILEt_c_m\n",
      "Kt_c_e\n",
      "KYN_c\n",
      "LACPYRt_c_m\n",
      "LACtps_m\n",
      "LALDO3_c\n",
      "LCADi_c\n",
      "LGTHL_c\n",
      "LLFC2O_c\n",
      "lumpFACOA160_c\n",
      "lumpFACOA180_c\n",
      "lumpFACOA200_c\n",
      "lumpFACOA220_c\n",
      "lumpFACOA240_c\n",
      "lumpFACOA260_c\n",
      "lumpFREEFA_c\n",
      "lumpIPC_c\n",
      "MALS_c\n",
      "MALt2_m\n",
      "MG2t_c_e\n",
      "MGSA_c\n",
      "MN2t_c_e\n",
      "MTHFC_c\n",
      "MTHFC_m\n",
      "MTHFD_c\n",
      "MTHFD2i_c\n",
      "MTHFR3_c\n",
      "NADHq9_c\n",
      "NDPK3_c\n",
      "NH4t_c_e\n",
      "NH4t_c_m\n",
      "O2t_c_e\n",
      "O2t_c_m\n",
      "OAADC_c\n",
      "P5CD2_m\n",
      "PAILS_c\n",
      "PAP_c\n",
      "PAPSR_c\n",
      "PDMEMT_c\n",
      "PEMT_c\n",
      "PItps_e\n",
      "PKETF_c\n",
      "PKETX_c\n",
      "PMEMT_c\n",
      "PPA_c\n",
      "PPCK_c\n",
      "PROD2_m\n",
      "PSD_c\n",
      "PSSA_c\n",
      "PYRDC_c\n",
      "SADT_c\n",
      "SERAT_c\n",
      "SERD_L_c\n",
      "SERt_c_m\n",
      "SO3R_c\n",
      "SO4t_c_e\n",
      "SQLEy_c\n",
      "SSALy_c\n",
      "STATg_c\n",
      "SUCCt2_m\n",
      "SUCFUMt_c_m\n",
      "THRA_c\n",
      "THRt_c_m\n",
      "TRDR_c\n",
      "TRE6PP_c\n",
      "TRE6PS_c\n",
      "UREA_c\n",
      "UREASE_c\n",
      "ZN2t_c_e\n"
     ]
    }
   ],
   "source": [
    "import json\n",
    "# read json file /Users/ejm6426/Documents/rtRBA-main/suppMat/fig1-escher/escher_map_iRhtoC_metabolism.json\n",
    "with open('/Users/ejm6426/Documents/rtRBA-main/suppMat/fig1-escher/escher_map_iRhtoC_metabolism.json') as f:\n",
    "\tescher_map = json.load(f)\n",
    "escher_rxns = [rxn['bigg_id'] for rxn in escher_map[1]['reactions'].values()]\n",
    "mfa_rxns = ['13GS_c','16GS_c','2OBUTt_c_m','2OXOADPt_c_m','AASADy_c','AATA_c','ABTA_c','ACACT40ir_c','ACGAM6PS_c','ACGAMPM_c','ACGK_m','ACHBS_m','ACITL_c','ACKr_c','ACLS_m','ACOADS180_c','ACOADS181_c','ACOADS182_c','ACONTa_m','ACONTb_m','ACOTAi_m','ACS_c','ADK1_c','ADNK1_c','ADPATPt_c_m','ADSK_c','ADSL1r_c','ADSL2i_c','ADSS_c','AGPAT_c','AGPRi_m','AGTi_c','AHCi_c','AHSERL2_c','AICART_c','AIRC1_c','AKGCITta_m','AKGDH_m','AKGMALta_m','ALAt_c_m','ALATA_L_m','ALDD2x_c','ALDD2y_c','ALPHNH_c','ANPRT_c','ANS_c','ARGN_c','ARGSL_c','ARGSS_c','ASAD_c','ASNS1_c','ASPCT_c','ASPGLUt_c_m','ASPK_c','ASPTA_c','ASPTAi_m','ATPM_c','ATPPRT_c','ATPS_m','BIOMASS','BPNT_c','C14STR_c','C22STDSy_c','C24STR_c','C3STDH1_c','C3STDH2_c','C3STKR1_c','C3STKR2_c','C4STMO1_c','C4STMO2_c','C4STMO3_c','C4STMO4_c','C5STDS_c','C8STI_c','CA2t_c_e','CBL_c','CBPS_c','CDPDAGS_c','CHORM_c','CHORS_c','CHTNS_c','CITICITta_m','CITMALta_m','CO2t_c_e','CO2t_c_m','compACYLCOA_c','CS_m','CTPS2_c','CU2t_c_e','CYSS_c','CYSTGL_c','CYSTS_c','CYTK1_c','DDPA_c','DGAT_c','DHAD1_m','DHAD2_m','DHFRi_c','DHORDfum_c','DHORTS_c','DHQS_c','DHQTi_c','DMATT_c','DOLPMMT_c','DOLPMT_c','DPMVD_c','DTMPK_c','DUTPDP_c','ENO_c','ETFOXRq9_m','EX_ca2_e','EX_co2_e','EX_cu2_e','EX_fe2_e','EX_glc__D_e','EX_h_e','EX_h2o_e','EX_k_e','EX_mg2_e','EX_mn2_e','EX_nh4_e','EX_o2_e','EX_pi_e','EX_so4_e','EX_zn2_e','FADH2t_c_m','FADt_c_m','FBA_c','FBA3_c','FBP_c','FDH_c','FE2t_c_e','FECOOR_m','FECRq9_m','FKYNH_c','FORt_c_m','FRD_c','FTHFL_c','FTHFL_m','FUM_c','FUM_m','G3PAT_c','G3PD1i_c','G5SADr_c','G5SADr_m','G5SDy_c','G6PDH2i_c','GALUi_c','GAPD_c','GARFT_c','GF6PTA_c','GHMT2r_c','GHMT2r_m','GK1_c','GK2_c','GLCt_c_e','GLNS_c','GLU5K_c','GLUDC_c','GLUDxi_c','GLUDy_c','GLUPRT_c','GLUSx_c','GLUt_c_m','GLYCL_m','GLYGS_c','GLYOX_c','GLYt_c_m','GMPS2_c','GND_c','GRTT_c','H2Ot_c_e','H2Ot_c_m','HACNH_m','HCITR_m','HCITS_m','HCO3E_c','HCYSMT_c','HEX1_c','HICITD_m','HISTD_c','HISTP_c','HMGCOAR_c','HMGCOAS_c','HSDx_c','HSDy_c','HSERTA_c','HSK_c','HSTPT_c','Ht_c','Ht_c_m','ICDHx_m','ICDHyi_m','ICL_1_c','IG3PS_c','IGPDH_c','IGPS_c','ILEt_c_m','ILETA_m','IMPC_c','IMPD_c','IPDDI_c','IPMD_c','IPPMIa_c','IPPMIb_c','IPPS_c','KARA1i_m','KARA2i_m','Kt_c_e','KYN_c','LACPYRt_c_m','LACtps_m','LALDO3_c','LCADi_c','LEUTA_c','LGTHL_c','LLFC2O_c','LNS14DMy_c','LNSTLS_c','lumpFACOA160_c','lumpFACOA180_c','lumpFACOA200_c','lumpFACOA220_c','lumpFACOA240_c','lumpFACOA260_c','lumpFREEFA_c','lumpIPC_c','M1PS_c','MALS_c','MALt2_m','MAN1PT_c','MAN6PI_c','MDH_c','MDH_m','ME1_m','ME2_c','ME2_m','METAT_c','METB1_c','METS_c','MEVK1_c','MG2t_c_e','MGSA_c','MI1PP_c','MN2t_c_e','MTHFC_c','MTHFC_m','MTHFD_c','MTHFD_m','MTHFD2i_c','MTHFR3_c','NADHcplxI_c_m','NADHq9_c','NDPK1_c','NDPK2_c','NDPK3_c','NDPK4_c','NDPK5_c','NDPK6_c','NDPK7_c','NDPK8_c','NH4t_c_e','NH4t_c_m','NTP5_c','O2t_c_e','O2t_c_m','OAADC_c','OAAtps_m','OCBT_c','OMCDC_c','OMPDC_c','ORNCD_m','ORNTA_c','ORNTACi_m','ORNtpa_m','ORPT_c','P5CD2_m','P5CR_c','PAILS_c','PAP_c','PAPSR_c','PC_c','PDH_m','PDMEMT_c','PEMT_c','PFK_c','PGCD_c','PGI_c','PGK_c','PGL_c','PGM_c','PGMT_c','PHETA1_c','PItps_e','PItps_m','PKETF_c','PKETX_c','PMANM_c','PMEMT_c','PMEVK_c','PPA_c','PPCK_c','PPND2_c','PPNDH_c','PRAGSi_c','PRAIi_c','PRAIS_c','PRAMPC_c','PRASCSi_c','PRATPP_c','PRFGS_c','PRMICI_c','PROD2_m','PROt_c_m','PRPPS_c','PSCIT_c','PSD_c','PSERT_c','PSP_L_c','PSSA_c','PYK_c','PYRDC_c','PYRtps_m','RNDR1_c','RNDR2_c','RNDR3_c','RNDR4_c','RPE_c','RPI_c','SACCD1_c','SACCD2_c','SADT_c','SAM24MT_c','SBP_c','SERAT_c','SERD_L_c','SERt_c_m','SHK3Di_c','SHKK_c','SO3R_c','SO4t_c_e','SQLEy_c','SQLS_c','SSALy_c','STATg_c','SUCCt2_m','SUCDq9_m','SUCFUMt_c_m','SUCOAS_m','TALA_c','THRA_c','THRD_L_m','THRS_c','THRt_c_m','TKT1_c','TKT2_c','TMDS_c','TPI_c','TRDR_c','TRE6PP_c','TRE6PS_c','TRPO2_c','TRPS1_c','TYRTA_c','UAGDP_c','UMPK_c','UREA_c','UREASE_c','VALt_c_m','VALTA_c','VALTA_m','ZN2t_c_e']\n",
    "# find rxns in mfa_rxns that aren't in escher_rxns\n",
    "print('Reactions in MFA but not in Escher map:')\n",
    "for rxn in mfa_rxns:\n",
    "\tif rxn not in escher_rxns:\n",
    "\t\tprint(rxn)"
   ]
  },
  {
   "cell_type": "code",
   "execution_count": null,
   "metadata": {},
   "outputs": [
    {
     "name": "stdout",
     "output_type": "stream",
     "text": [
      "../kapps-SC-vs-RT.svg:\n",
      "y = -1.54x + 526540536084.27\n",
      "R^2 = 1.5465591808865146e-05\n",
      "p-value = 0.9408089481859856\n",
      "xscale and yscale are set to log and log, respectively.\n",
      "Minimum value in x or y is less than or equal to 0. Setting minimum axis limit to lowest non-zero value.\n",
      "y = 1.39x + 0.24\n",
      "R^2 = 0.0845872645118604\n",
      "p-value = 2.3829973156336964e-08\n",
      "y = 0.3x + 0.0\n",
      "R^2 = 0.2882299562019039\n",
      "p-value = 1.67834239781522e-45\n",
      "y = -1.54x + 526540536084.27\n",
      "R^2 = 1.5465591808865146e-05\n",
      "p-value = 0.9408089481859856\n"
     ]
    },
    {
     "data": {
      "image/png": "[encoded data removed]",
      "text/plain": [
       "<Figure size 500x500 with 1 Axes>"
      ]
     },
     "metadata": {},
     "output_type": "display_data"
    },
    {
     "data": {
      "image/png": "[encoded data removed]",
      "text/plain": [
       "<Figure size 500x1500 with 3 Axes>"
      ]
     },
     "metadata": {},
     "output_type": "display_data"
    }
   ],
   "source": [
    "import openpyxl\n",
    "letters = ['A', 'B', 'C', 'D', 'E', 'F', 'G', 'H', 'I', 'J', 'K', 'L', 'M', 'N', 'O', 'P', 'Q', 'R', 'S', 'T', 'U', 'V', 'W', 'X', 'Y', 'Z']\n",
    "# note: currently doesn't support subplots with more than 26 subplots, or cases where 1 row isn't completely used\n",
    "i=0\n",
    "\n",
    "# add sheet to new kapp xlsx file for storing each dataset more concisely\n",
    "plot_data_filename = 'kapp-plots-data.xlsx'\n",
    "# create new file if it doesn't exist; delete contents if it does\n",
    "if os.path.exists('./'+plot_data_filename):\n",
    "\tos.remove('./'+plot_data_filename)\n",
    "# create new file with blank sheet\n",
    "with pd.ExcelWriter(plot_data_filename) as writer:\n",
    "\t# write message to blank sheet\n",
    "\tdf = pd.DataFrame({'Message': ['This file contains data used by kapp_plot.ipynb for generating plots']})\n",
    "\tdf.to_excel(writer, sheet_name='Notes')\n",
    "\t# add title to sheet\n",
    "\t# wb = openpyxl.load_workbook(plot_data_filename)\n",
    "\t# ws = wb.active\n",
    "\t# ws['A1'] = d['title']\n",
    "\t# wb.save(plot_data_filename)\n",
    "\n",
    "with pd.ExcelWriter(plot_data_filename, mode='a') as writer:\n",
    "\tfor d in datasets:\n",
    "\t\tdf = pd.DataFrame({'id':d['id'],d['xlabel']: d['x'], d['ylabel']: d['y']})\n",
    "\t\t# open(plot_data_filename, 'w').close()\n",
    "\t\t# add new sheet to the file, not overwriting existing sheets\n",
    "\t\tdf.to_excel(writer, sheet_name=d['title'],index=False)\n",
    "\tfor d in datasets[len(datasets)-1:]: # needed to ensure multi-plot figure is created properly\n",
    "\t\t# datacolors = ['#8F8F8F']*len(d['x'])\n",
    "\t\t# if d['title'] == '$k_{app}$ Values':\n",
    "\t\t# # set color for each point based on subsystem\n",
    "\t\t# \tfor c in range(len(d['x'])):\n",
    "\t\t# \t\t# central carbon metabolism\n",
    "\t\t# \t\tif df_kapp.iloc[c]['subsystem'] in ['Glycolysis / Gluconeogenesis']:\n",
    "\t\t# \t\t\tdatacolors[c] = '#FF0000'\n",
    "\t\tfig, ax = plot_2d_data(d, x=d['x'], y=d['y'], xlabel=d['xlabel'], ylabel=d['ylabel'], output_path=d['output_path'],scale='log',show_figure=False,global_fig_ax=True,pointsize=5)\n",
    "\t\t# save figure\n",
    "\t\t# make dataframe with xlabel and ylabel, and their respective datasets below them\n",
    "\t\t# d['y'].to_excel(writer, sheet_name='y')\n",
    "\t\t# add title to sheet\n",
    "\t\t# wb = openpyxl.load_workbook(plot_data_filename)\n",
    "\t\t# ws = wb.active\n",
    "\t\t# ws['A1'] = d['title']\n",
    "\t\t# wb.save(plot_data_filename)\n",
    "\t# add each dataset to a new sheet in the same file\n",
    "\t# with pd.ExcelWriter(plot_data_filename) as writer:\n",
    "\t# \td['x'].to_excel(writer, sheet_name='x')\n",
    "\t# \td['y'].to_excel(writer, sheet_name='y')\n",
    "\t# \t# add title to sheet\n",
    "\t# \twb = openpyxl.load_workbook(plot_data_filename)\n",
    "\t# \tws = wb.active\n",
    "\t# \tws['A1'] = d['title']\n",
    "\t\t# wb.save(plot_data_filename)\n",
    "\n",
    "# with pd.ExcelWriter(plot_data_filename, mode='a') as writer:\n",
    "\n",
    "subplots_wide = 1\n",
    "subplots_high = len(datasets)\n",
    "axis_margin = 0.05\n",
    "overlapping_points_in_legend = 0\n",
    "figs, axes = plt.subplots(subplots_high, subplots_wide, figsize=(subplots_wide*5, subplots_high*5))\n",
    "row,col=0,0\n",
    "datacolor_lists = {}\n",
    "for d in datasets:\n",
    "\t# only use 2D indices if needed\n",
    "\tif subplots_high > 1: \n",
    "\t\tif subplots_wide > 1:\n",
    "\t\t\tindices = [row,col]\n",
    "\t\telse:\n",
    "\t\t\tindices = row\n",
    "\telse:\n",
    "\t\tindices = col\n",
    "\n",
    "\t# make list of colors that has 1 copy of '#1f78b4' for each point\n",
    "\t# datacolors = ['#1f78b4']*len(d['x'])\n",
    "\t# datacolors = ['#2062A5']*len(d['x'])\n",
    "\t# datacolors = ['#d7191c']*len(d['x'])\n",
    "\t# datacolors = ['#000000']*len(d['x'])\n",
    "\tdatacolors = ['#8F8F8F']*len(d['x'])\n",
    "\tlegend_elements = []\n",
    "\tpointsize = 5\n",
    "\tif d['title'] == 'MFA-derived fluxes':\n",
    "\t\tdf_data = df_flux_no_zeros\n",
    "\t\t# set color for each point based on subsystem\n",
    "\t\tfor c in range(len(d['x'])):\n",
    "\t\t\t# nucleic acids\n",
    "\t\t\tif df_data.iloc[c]['subsystem'] in ['Purine metabolism','Pyrimidine metabolism']:\n",
    "\t\t\t\t# datacolors[c] = '#77ACCE'\n",
    "\t\t\t\tdatacolors[c] = '#984ea3'\n",
    "\t\t\t\t# add to legend\n",
    "\t\t\t\tlegend_elements.append(mlines.Line2D([], [], color=datacolors[c], marker='o', linestyle='None', label='Nucleic acids'))\n",
    "\t\t\t# amino acids\n",
    "\t\t\tif df_data.iloc[c]['subsystem'] in ['Lysine metabolism','Histidine metabolism','Tryptophan metabolism','Valine, leucine and isoleucine metabolism','Arginine and proline metabolism','Cysteine and methionine metabolism','Phenylalanine, tyrosine and tryptophan metabolism','Glycine, serine and threonine metabolism','Alanine, aspartate and glutamate metabolism']:\n",
    "\t\t\t\t# datacolors[c] = '#D7EEF9'\n",
    "\t\t\t\tdatacolors[c] = '#377eb8'\n",
    "\t\t\t\tlegend_elements.append(mlines.Line2D([], [], color=datacolors[c], marker='o', linestyle='None', label='Amino acids'))\n",
    "\t\t\t# central carbon metabolism\n",
    "\t\t\t# if df_data.iloc[c]['subsystem'] in ['Oxidative phosphorylation']:\n",
    "\t\t\t# \tdatacolors[c] = '#0000FF'\n",
    "\t\t\tif df_data.iloc[c]['subsystem'] in ['Pyruvate metabolism']:\n",
    "\t\t\t\t# datacolors[c] = '#F5F1B4'\n",
    "\t\t\t\tdatacolors[c] = '#4daf4a'\n",
    "\t\t\t\tlegend_elements.append(mlines.Line2D([], [], color=datacolors[c], marker='o', linestyle='None', label='Pyruvate metabolism'))\n",
    "\t\t\tif df_data.iloc[c]['subsystem'] in ['Pentose phosphate pathway']:\n",
    "\t\t\t\tdatacolors[c] = '#ffff33'\n",
    "\t\t\t\tlegend_elements.append(mlines.Line2D([], [], color=datacolors[c], marker='o', linestyle='None', label='Pentose phosphate pathway'))\n",
    "\t\t\tif df_data.iloc[c]['subsystem'] in ['Citric acid cycle']:\n",
    "\t\t\t\t# datacolors[c] = '#F58453'\n",
    "\t\t\t\tdatacolors[c] = '#ff7f00'\n",
    "\t\t\t\tlegend_elements.append(mlines.Line2D([], [], color=datacolors[c], marker='o', linestyle='None', label='Citric acid cycle'))\n",
    "\t\t\tif df_data.iloc[c]['subsystem'] in ['Glycolysis / Gluconeogenesis']:\n",
    "\t\t\t\t# datacolors[c] = '#FF0000'\n",
    "\t\t\t\tdatacolors[c] = '#e41a1c'\n",
    "\t\t\t\tlegend_elements.append(mlines.Line2D([], [], color=datacolors[c], marker='o', linestyle='None', label='Glycolysis / Gluconeogenesis'))\n",
    "\t# for kapps, color by subsystem\n",
    "\telif d['title'] == '$k_{app}$ Values':\n",
    "\t\tpointsize = 9\n",
    "\t\tdf_data = df_kapp\n",
    "\t\t# set color for each point based on subsystem\n",
    "\t\tfor c in range(len(d['x'])):\n",
    "\t\t\t# nucleic acids\n",
    "\t\t\tif df_data.iloc[c]['subsystem'] in ['Purine metabolism','Pyrimidine metabolism']:\n",
    "\t\t\t\t# datacolors[c] = '#77ACCE'\n",
    "\t\t\t\tdatacolors[c] = '#984ea3'\n",
    "\t\t\t\t# add to legend\n",
    "\t\t\t\tlegend_elements.append(mlines.Line2D([], [], color=datacolors[c], marker='o', linestyle='None', label='Nucleic acids'))\n",
    "\t\t\t# amino acids\n",
    "\t\t\tif df_data.iloc[c]['subsystem'] in ['Lysine metabolism','Histidine metabolism','Tryptophan metabolism','Valine, leucine and isoleucine metabolism','Arginine and proline metabolism','Cysteine and methionine metabolism','Phenylalanine, tyrosine and tryptophan metabolism','Glycine, serine and threonine metabolism','Alanine, aspartate and glutamate metabolism']:\n",
    "\t\t\t\t# datacolors[c] = '#D7EEF9'\n",
    "\t\t\t\tdatacolors[c] = '#377eb8'\n",
    "\t\t\t\t# add to legend\n",
    "\t\t\t\tlegend_elements.append(mlines.Line2D([], [], color=datacolors[c], marker='o', linestyle='None', label='Amino acids'))\n",
    "\t\t\t# central carbon metabolism\n",
    "\t\t\t# if df_data.iloc[c]['subsystem'] in ['Oxidative phosphorylation']:\n",
    "\t\t\t# \tdatacolors[c] = '#0000FF'\n",
    "\t\t\tif df_data.iloc[c]['subsystem'] in ['Pyruvate metabolism']:\n",
    "\t\t\t\t# datacolors[c] = '#F5F1B4'\n",
    "\t\t\t\tdatacolors[c] = '#4daf4a'\n",
    "\t\t\t\t# add to legend\n",
    "\t\t\t\tlegend_elements.append(mlines.Line2D([], [], color=datacolors[c], marker='o', linestyle='None', label='Pyruvate metabolism'))\n",
    "\t\t\tif df_data.iloc[c]['subsystem'] in ['Pentose phosphate pathway']:\n",
    "\t\t\t\tdatacolors[c] = '#ffff33'\n",
    "\t\t\t\t# add to legend\n",
    "\t\t\t\tlegend_elements.append(mlines.Line2D([], [], color=datacolors[c], marker='o', linestyle='None', label='Pentose phosphate pathway'))\n",
    "\t\t\tif df_data.iloc[c]['subsystem'] in ['Citric acid cycle']:\n",
    "\t\t\t\t# datacolors[c] = '#F58453'\n",
    "\t\t\t\tdatacolors[c] = '#ff7f00'\n",
    "\t\t\t\t# add to legend\n",
    "\t\t\t\tlegend_elements.append(mlines.Line2D([], [], color=datacolors[c], marker='o', linestyle='None', label='Citric acid cycle'))\n",
    "\t\t\tif df_data.iloc[c]['subsystem'] in ['Glycolysis / Gluconeogenesis']:\n",
    "\t\t\t\t# datacolors[c] = '#FF0000'\n",
    "\t\t\t\tdatacolors[c] = '#e41a1c'\n",
    "\t\t\t\t# add to legend\n",
    "\t\t\t\tlegend_elements.append(mlines.Line2D([], [], color=datacolors[c], marker='o', linestyle='None', label='Glycolysis / Gluconeogenesis'))\n",
    "\tdatacolor_lists[d['title']] = datacolors\n",
    "\t# add each plot to the figure as formatted by plot_2d_data\n",
    "\tfig, axes[indices] = plot_2d_data(d, x=d['x'], y=d['y'], xlabel=d['xlabel'], ylabel=d['ylabel'], datacolor=datacolors,scale='log',show_figure=False,input_ax=axes[indices],input_fig=fig,global_fig_ax=True,pointsize=pointsize,overlapping_points_in_legend=0)\n",
    "\t# if d['title'] == 'MFA-derived fluxes':\n",
    "\t# \t# color points by subsystem\n",
    "\t# \t# get unique subsystems\n",
    "\t# \tsubsystems = df_flux_no_zeros['subsystem'].unique()\n",
    "\t# \t# assign #abd9e9 to points with 'Arginine and proline metabolism' or 'Glycine, serine and threonine metabolism' subsystems\n",
    "\t# \tfor subsystem in subsystems:\n",
    "\t# \t\tdf_subsystem = df_flux_no_zeros[df_flux_no_zeros['subsystem'] == subsystem]\n",
    "\t# \t\t# get color for each subsystem\n",
    "\t# \t\tif subsystem == 'Arginine and proline metabolism' or subsystem == 'Glycine, serine and threonine metabolism':\n",
    "\t# \t\t\tcolor = '#abd9e9'\n",
    "\t# \t\telse:\n",
    "\t# \t\t\tcolor = 'black'\n",
    "\t# \t\t# apply color to points in each subsystem\n",
    "\t# \t\taxes[indices].scatter(df_subsystem[d['x']], df_subsystem[d['y']], color=color, s=5)\n",
    "\t# add letter (a, b, c, etc.) to each subplot\n",
    "\taxes[indices].text(-0.05, 1.05, letters[i], transform=axes[indices].transAxes, fontsize=12, fontweight='bold', va='top', ha='left')\n",
    "\ti += 1\n",
    "\t# make scale of x-axis equal to scale of y-axis\n",
    "\taxes[indices].set_aspect('equal', adjustable='box')\n",
    "\t# add title; move it up slightly to avoid overlap with subplot\n",
    "\taxes[indices].set_title(d['title'], fontsize=14, pad=10)\n",
    "\t# remove minor ticks\n",
    "\taxes[indices].tick_params(which='minor', length=0)\n",
    "\n",
    "\t# if d['title'] == '$k_{app}$ Values':\n",
    "\tif False:\n",
    "\t\t# make additional plot just for (10^2, 1) to (10^8, 10^6), shown separately\n",
    "\t\t# make fig2 and ax2 copies of fig and ax\n",
    "\t\tfrom copy import deepcopy\n",
    "\t\t# fig2 = deepcopy(fig)\n",
    "\t\t# store current xlim and ylim\n",
    "\t\txlim = axes[indices].get_xlim()\n",
    "\t\tylim = axes[indices].get_ylim()\n",
    "\t\t\n",
    "\t\taxes[indices].set_xlim(10**3, 10**7)\n",
    "\t\taxes[indices].set_ylim(10**2, 10**6)\n",
    "\t\t# make points larger\n",
    "\t\t# axes[indices].scatter(d['x'], d['y'], s=7, color=datacolors, alpha=0.5)\n",
    "\n",
    "\t\t# ax2 = deepcopy(axes[indices])\n",
    "\t\t# ax2.set_xlim(10**3, 10**7)\n",
    "\t\t# ax2.set_ylim(10**2, 10**6)\n",
    "\t\t# _, _ = plot_2d_data(d, x=d['x'], y=d['y'], xlabel=d['xlabel'], ylabel=d['ylabel'], datacolor=datacolors,scale='log',show_figure=False,input_ax=axes[indices],input_fig=fig,global_fig_ax=True,pointsize=9,overlapping_points_in_legend=0, output_path='../kapps-SC-vs-RT-subset.svg')\n",
    "\t\t# make all dots larger\n",
    "\t\t# ax2.scatter(d['x'], d['y'], s=7, color=datacolors, alpha=0.5)\n",
    "\t\t# show the plot\n",
    "\t\t# fig2.suptitle('Subset of $k_{app}$ Values', fontsize=16, fontweight='bold')\n",
    "\t\t# plt.tight_layout()\n",
    "\t\t# plt.savefig('../kapps-SC-vs-RT-subset.svg', transparent=True)\n",
    "\t# remove duplicate legend entries from legend_elements\n",
    "\tif legend_elements:\n",
    "\t\tunique_handles = []\n",
    "\t\tunique_labels = set()\n",
    "\t\tfor elem in legend_elements:\n",
    "\t\t\tif elem.get_label() not in unique_labels:\n",
    "\t\t\t\tunique_handles.append(elem)\n",
    "\t\t\t\tunique_labels.add(elem.get_label())\n",
    "\t\t# add legend for each colored point\n",
    "\t\taxes[indices].legend(handles=unique_handles, fontsize=10)\n",
    "\n",
    "\t# optional: make gray rectangle around each subplot spanning from top left to bottom right - axis_margin)\n",
    "\t# axes[indices].add_patch(mp.Rectangle((0.025,0.825),0.4,0.99,transform=axes[indices].transAxes, fill=None,edgecolor='0.8',linewidth=1,zorder=5))\n",
    "\t# add subplots in reading order, looping around to next row if necessary\n",
    "\tif col+1 >= subplots_wide:\n",
    "\t\trow += 1\n",
    "\t\tcol = 0\n",
    "\telse:\n",
    "\t\tcol += 1\n",
    "# add title\n",
    "figs.suptitle('Comparison of SC vs RT', fontsize=16, fontweight='bold')\n",
    "plt.tight_layout()\n",
    "plt.savefig('../combined-SC-vs-RT.svg')\n",
    "plt.show()"
   ]
  },
  {
   "cell_type": "code",
   "execution_count": 10,
   "metadata": {},
   "outputs": [
    {
     "name": "stdout",
     "output_type": "stream",
     "text": [
      "xscale and yscale are set to log and log, respectively.\n",
      "Minimum value in x or y is less than or equal to 0. Setting minimum axis limit to lowest non-zero value.\n",
      "../fluxes-for-kapps-SC-vs-RT.svg:\n",
      "y = 1.39x + 0.24\n",
      "R^2 = 0.0845872645118604\n",
      "p-value = 2.3829973156336964e-08\n",
      "../protein-abundances-SC-vs-RT.svg:\n",
      "y = 0.3x + 0.0\n",
      "R^2 = 0.2882299562019039\n",
      "p-value = 1.67834239781522e-45\n",
      "../kapps-SC-vs-RT.svg:\n",
      "y = -1.54x + 526540536084.27\n",
      "R^2 = 1.5465591808865146e-05\n",
      "p-value = 0.9408089481859856\n"
     ]
    },
    {
     "data": {
      "image/png": "[encoded data removed]",
      "text/plain": [
       "<Figure size 500x500 with 1 Axes>"
      ]
     },
     "metadata": {},
     "output_type": "display_data"
    },
    {
     "data": {
      "image/png": "[encoded data removed]",
      "text/plain": [
       "<Figure size 500x500 with 1 Axes>"
      ]
     },
     "metadata": {},
     "output_type": "display_data"
    },
    {
     "data": {
      "image/png": "[encoded data removed]",
      "text/plain": [
       "<Figure size 500x500 with 1 Axes>"
      ]
     },
     "metadata": {},
     "output_type": "display_data"
    }
   ],
   "source": [
    "# save to separate files\n",
    "for d in datasets:\n",
    "\tplot_2d_data(d, x=d['x'], y=d['y'], xlabel=d['xlabel'], datacolor=datacolor_lists[d['title']],ylabel=d['ylabel'], scale='log', output_path=d['output_path'],show_figure=False,global_fig_ax=False,pointsize=5,overlapping_points_in_legend=0)"
   ]
  },
  {
   "cell_type": "code",
   "execution_count": null,
   "metadata": {},
   "outputs": [],
   "source": []
  }
 ],
 "metadata": {
  "kernelspec": {
   "display_name": "rba",
   "language": "python",
   "name": "python3"
  },
  "language_info": {
   "codemirror_mode": {
    "name": "ipython",
    "version": 3
   },
   "file_extension": ".py",
   "mimetype": "text/x-python",
   "name": "python",
   "nbconvert_exporter": "python",
   "pygments_lexer": "ipython3",
   "version": "3.9.18"
  }
 },
 "nbformat": 4,
 "nbformat_minor": 4
}
